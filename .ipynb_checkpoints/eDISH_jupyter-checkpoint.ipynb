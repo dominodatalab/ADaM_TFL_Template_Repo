{
 "cells": [
  {
   "cell_type": "markdown",
   "id": "caf298cb-8723-4756-94da-19b8cc53d556",
   "metadata": {},
   "source": [
    "# eDISH Plot"
   ]
  },
  {
   "cell_type": "markdown",
   "id": "868b54fe-589a-4dae-8607-adeae71fd6a4",
   "metadata": {
    "tags": []
   },
   "source": [
    "## load packages"
   ]
  },
  {
   "cell_type": "code",
   "execution_count": 110,
   "id": "994f036c-82bc-4dd4-8b70-8d6ae971c8b7",
   "metadata": {},
   "outputs": [],
   "source": [
    "library(tidyverse)\n",
    "library(haven)\n",
    "library(Cairo)"
   ]
  },
  {
   "cell_type": "markdown",
   "id": "0a0549a0-bdae-4fdd-b067-3b44c299e7a7",
   "metadata": {
    "tags": []
   },
   "source": [
    "## set working directory"
   ]
  },
  {
   "cell_type": "code",
   "execution_count": 88,
   "id": "110b7f05-84c5-4e60-a313-ff723d1fbb55",
   "metadata": {},
   "outputs": [],
   "source": [
    "setwd(\"/mnt/imported/data/ADAM\")\n"
   ]
  },
  {
   "cell_type": "markdown",
   "id": "390446f9-9118-47a2-8c30-8458aae788e6",
   "metadata": {},
   "source": [
    "## load data"
   ]
  },
  {
   "cell_type": "code",
   "execution_count": 89,
   "id": "d70e4a96-5e35-4059-afdc-ae15ee682203",
   "metadata": {},
   "outputs": [],
   "source": [
    "adlbhy <- read_sas(\"adlbhy.sas7bdat\")"
   ]
  },
  {
   "cell_type": "markdown",
   "id": "f32e802e-2995-4677-b2cb-a3e8a5c92056",
   "metadata": {},
   "source": [
    "## eDISH Plot"
   ]
  },
  {
   "cell_type": "markdown",
   "id": "c1c9a24c-7c75-455e-a258-883b31387cf8",
   "metadata": {},
   "source": [
    "#### taking the max AVAL by USUBJID for max ALT"
   ]
  },
  {
   "cell_type": "markdown",
   "id": "2d957d44-8fc6-4d43-87d5-365ae2f3e839",
   "metadata": {},
   "source": [
    "### make the ALT data"
   ]
  },
  {
   "cell_type": "code",
   "execution_count": 90,
   "id": "30ddc121-1918-4155-a781-0a8b1fa1c0f4",
   "metadata": {},
   "outputs": [],
   "source": [
    "adlbhy_alt <- adlbhy %>%\n",
    "  filter(ANL01FL == \"Y\" & PARAMCD == \"ALT\")  %>%\n",
    "  group_by(USUBJID) %>%\n",
    "  mutate(max_aval = max(AVAL),\n",
    "         max_ALT_ULN = max(R2A1HI)) %>%\n",
    "  ungroup()"
   ]
  },
  {
   "cell_type": "code",
   "execution_count": 91,
   "id": "24abf795-ade1-4c75-9405-1a68cc2c5c94",
   "metadata": {},
   "outputs": [],
   "source": [
    "### make the BILI data"
   ]
  },
  {
   "cell_type": "code",
   "execution_count": 92,
   "id": "c4704db3-c8f5-4974-99de-2b5dcc949e7d",
   "metadata": {},
   "outputs": [],
   "source": [
    "adlbhy_bili_pre <- adlbhy %>%\n",
    "  filter(ANL01FL == \"Y\" & PARAMCD == \"BILI\")  %>%\n",
    "  group_by(USUBJID) %>%\n",
    "  mutate(max_aval = max(AVAL),\n",
    "         max_BILI_ULN = max(R2A1HI)) %>%\n",
    "  ungroup()"
   ]
  },
  {
   "cell_type": "markdown",
   "id": "26824123-1302-4f7a-b0b8-bad32a8b4ace",
   "metadata": {},
   "source": [
    "#### keep only needed variables"
   ]
  },
  {
   "cell_type": "code",
   "execution_count": 93,
   "id": "db7e9021-9b18-409b-98d0-074f384d1d42",
   "metadata": {},
   "outputs": [],
   "source": [
    "adlbhy_bili <- adlbhy_bili_pre[,c(\"USUBJID\", \"AVISITN\", \"max_BILI_ULN\")]"
   ]
  },
  {
   "cell_type": "markdown",
   "id": "07915f0e-6140-4bfc-8b02-a5d9c871d100",
   "metadata": {},
   "source": [
    "### merge all together"
   ]
  },
  {
   "cell_type": "code",
   "execution_count": 94,
   "id": "7845ae9e-9418-46d4-ad62-871d157aadfe",
   "metadata": {},
   "outputs": [],
   "source": [
    "edish_data_prep <- merge(adlbhy_alt, adlbhy_bili, by = c(\"USUBJID\", \"AVISITN\"), all = TRUE)"
   ]
  },
  {
   "cell_type": "markdown",
   "id": "15da14e8-68db-4fe8-9366-03a03200945f",
   "metadata": {},
   "source": [
    "## make eDISH plot"
   ]
  },
  {
   "cell_type": "markdown",
   "id": "6e77f0c4-b23e-4589-adf6-c575cfc27d68",
   "metadata": {},
   "source": [
    "#### find the unique data for each subject"
   ]
  },
  {
   "cell_type": "code",
   "execution_count": 95,
   "id": "4f65bc4e-721f-4420-a9b5-2ea3aaff48a9",
   "metadata": {},
   "outputs": [],
   "source": [
    "edish_data_unique <- unique(edish_data_prep[,c(\"USUBJID\",  \"max_ALT_ULN\",  \"max_BILI_ULN\")])"
   ]
  },
  {
   "cell_type": "markdown",
   "id": "1e512631-21ea-48d5-8a8e-cd6418187b66",
   "metadata": {},
   "source": [
    "#### find the number of patients that fall within each bound"
   ]
  },
  {
   "cell_type": "code",
   "execution_count": 96,
   "id": "0add4638-cb7a-4b00-a323-cda1d2cd651a",
   "metadata": {},
   "outputs": [
    {
     "name": "stderr",
     "output_type": "stream",
     "text": [
      "\u001b[1m\u001b[22m`summarise()` has grouped output by 'status'. You can override using the\n",
      "`.groups` argument.\n"
     ]
    }
   ],
   "source": [
    "edish_summary_prep <- edish_data_unique %>%\n",
    "  mutate(status = ifelse(max_ALT_ULN < 1 & max_BILI_ULN < 1, \"Normal\",\n",
    "                         ifelse(max_ALT_ULN < 3 & max_BILI_ULN < 2 & max_ALT_ULN >= 1 , \"\",\n",
    "                                ifelse(max_ALT_ULN < 3 & max_BILI_ULN < 2 & max_BILI_ULN >= 1, \"\",\n",
    "                                       ifelse(max_ALT_ULN >= 3 & max_BILI_ULN >= 2, \"Hy's Law\",\n",
    "                                              ifelse(max_ALT_ULN < 3 & max_BILI_ULN >= 2, \"Hyperbilirubinemia\",\n",
    "                                                     ifelse(max_ALT_ULN >= 3 & max_BILI_ULN < 2, \"Temple's Corollary\",\n",
    "                                                            NA))))))) %>%\n",
    "  group_by(status) %>%\n",
    "  summarise(USUBJID, \n",
    "            max_ALT_ULN,\n",
    "            max_BILI_ULN,\n",
    "            n = n()) %>%\n",
    "  ungroup()"
   ]
  },
  {
   "cell_type": "markdown",
   "id": "2d227023-6fbe-43c6-8921-975c6c523eca",
   "metadata": {},
   "source": [
    "#### if any counts = 0, that status will not appear.  Merge this on to make 0 appear"
   ]
  },
  {
   "cell_type": "code",
   "execution_count": 97,
   "id": "9bb4d84a-59df-4852-9384-6f7e0df5718a",
   "metadata": {},
   "outputs": [],
   "source": [
    "status_all <- data.frame(status = c(\"Normal\", \"\", \"Hy's Law\", \"Hyperbilirubinemia\", \"Temple's Corollary\"),\n",
    "                         n_0 = rep(0,5))\n",
    "\n",
    "edish_summary_pre <- merge(edish_summary_prep, status_all, by = \"status\", all = TRUE) \n",
    "\n",
    "edish_summary <- edish_summary_pre %>%\n",
    "  summarise(USUBJID,\n",
    "            status,\n",
    "            n = ifelse(is.na(n) == TRUE, 0, n),\n",
    "            x_lab = ifelse(status == \"Normal\", floor(min(max_ALT_ULN)), \n",
    "                           ifelse(status == \"\", 1,\n",
    "                                  ifelse(status == \"Hy's Law\", 3,\n",
    "                                         ifelse(status == \"Hyperbilirubinemia\",  floor(min(max_ALT_ULN)),\n",
    "                                                ifelse(status == \"Temple's Corollary\", 3, NA))))),\n",
    "            y_lab = ifelse(status == \"Normal\", floor(min(max_BILI_ULN)), \n",
    "                           ifelse(status == \"\", floor(min(max_BILI_ULN)),\n",
    "                                  ifelse(status == \"Hy's Law\", 2,\n",
    "                                         ifelse(status == \"Hyperbilirubinemia\", 2,\n",
    "                                                ifelse(status == \"Temple's Corollary\", floor(min(max_BILI_ULN)),\n",
    "                                                       NA))))))"
   ]
  },
  {
   "cell_type": "markdown",
   "id": "08121910-6a9a-42de-a4ce-79ef8f94c480",
   "metadata": {},
   "source": [
    "#### get just the unique counts for status to be used as text on plot"
   ]
  },
  {
   "cell_type": "code",
   "execution_count": 98,
   "id": "349c2b19-4629-4baf-9703-133f08ce2c37",
   "metadata": {},
   "outputs": [],
   "source": [
    "status_count <- unique(edish_summary[,c(\"status\", \"n\", \"x_lab\", \"y_lab\")])\n"
   ]
  },
  {
   "cell_type": "markdown",
   "id": "4584e8a0-c263-462d-80a4-28879d338cc5",
   "metadata": {},
   "source": [
    "#### merge onto edish_data_prep to make edish_data"
   ]
  },
  {
   "cell_type": "code",
   "execution_count": 99,
   "id": "97690688-e2a6-4e96-8a11-de10c0677d53",
   "metadata": {},
   "outputs": [],
   "source": [
    "edish_data <- merge(edish_data_prep, edish_summary, by = \"USUBJID\", all = TRUE)"
   ]
  },
  {
   "cell_type": "markdown",
   "id": "1f242ae5-0003-4cdb-ba06-f3f4fcea7231",
   "metadata": {},
   "source": [
    "## the edish plot"
   ]
  },
  {
   "cell_type": "markdown",
   "id": "f1dcd21f-666d-42b2-ba75-e899fbc8bfbc",
   "metadata": {},
   "source": [
    "#### save and output as a PDF"
   ]
  },
  {
   "cell_type": "code",
   "execution_count": 100,
   "id": "f0c1219d-006d-4718-950f-80d1a2a440ce",
   "metadata": {},
   "outputs": [],
   "source": [
    "setwd(\"/mnt/artifacts/results\")"
   ]
  },
  {
   "cell_type": "code",
   "execution_count": 101,
   "id": "6dd9d71d-997c-4c41-a0b6-9aecb262a4e1",
   "metadata": {},
   "outputs": [],
   "source": [
    "# pdf(file = \"edish_jupyter.pdf\", height = 8, width = 14)"
   ]
  },
  {
   "cell_type": "markdown",
   "id": "dc2c80e8-4eed-475a-b611-e1510889f962",
   "metadata": {},
   "source": [
    "#### plot"
   ]
  },
  {
   "cell_type": "code",
   "execution_count": 111,
   "id": "6d3ec01b-eded-4c9c-9d54-4cb1b5e1767f",
   "metadata": {},
   "outputs": [
    {
     "name": "stderr",
     "output_type": "stream",
     "text": [
      "Warning message:\n",
      "“Transformation introduced infinite values in continuous y-axis”\n",
      "Warning message:\n",
      "“Transformation introduced infinite values in continuous x-axis”\n",
      "Warning message:\n",
      "“Transformation introduced infinite values in continuous x-axis”\n",
      "Warning message:\n",
      "“Transformation introduced infinite values in continuous y-axis”\n"
     ]
    },
    {
     "ename": "ERROR",
     "evalue": "Error in Cairo::Cairo(width, height, tf, \"png\", pointsize, bg, \"transparent\", : Graphics API version mismatch\n",
     "output_type": "error",
     "traceback": [
      "Error in Cairo::Cairo(width, height, tf, \"png\", pointsize, bg, \"transparent\", : Graphics API version mismatch\nTraceback:\n"
     ]
    },
    {
     "data": {
      "text/plain": [
       "plot without title"
      ]
     },
     "metadata": {
      "image/png": {
       "height": 420,
       "width": 420
      }
     },
     "output_type": "display_data"
    }
   ],
   "source": [
    "ggplot(data = edish_data) +\n",
    "  \n",
    "  # add labels of number in each status\n",
    "  geom_text(data = status_count,\n",
    "            aes(x = x_lab + 0.2,\n",
    "                y = y_lab + 0.2),\n",
    "            label = paste(status_count$status, \"\\nn = \", status_count$n),\n",
    "            hjust = -0,\n",
    "            vjust = -0,\n",
    "            col = \"red\") +\n",
    "  \n",
    "  # scatter points\n",
    "  geom_point(aes(x = max_ALT_ULN,\n",
    "                 y = max_BILI_ULN,\n",
    "                 color = TRTA),\n",
    "             size = 2) +\n",
    "  \n",
    "  # set point colours\n",
    "  scale_color_manual(values = c(\"grey60\", \"dodgerblue\", \"limegreen\"),\n",
    "                     name = \"Treatment Arm\") +\n",
    "  \n",
    "  # line of lower limit (requires two lines)\n",
    "  geom_segment(aes(x = 1,\n",
    "                   xend = 1,\n",
    "                   y = 0,\n",
    "                   yend = 1),\n",
    "               linetype = \"dashed\",\n",
    "               col = \"grey40\") +\n",
    "  geom_segment(aes(x = 0,\n",
    "                   xend = 1,\n",
    "                   y = 1,\n",
    "                   yend = 1),\n",
    "               linetype = \"dashed\",\n",
    "               col = \"grey40\") +\n",
    "  \n",
    "  # line of upper limit \n",
    "  geom_hline(aes(yintercept = 2),\n",
    "             linetype = \"dashed\",\n",
    "             col = \"grey40\") +\n",
    "  geom_vline(aes(xintercept = 3),\n",
    "             linetype = \"dashed\",\n",
    "             col = \"grey40\") +\n",
    "  \n",
    "  # annotate outside of plot where 1 X ULN and 3 X ULN for ALT\n",
    "  annotate(\"text\",\n",
    "           x = c(1,3),\n",
    "           y = c(max(max(edish_data$max_BILI_ULN),4) + 2.5,\n",
    "                 max(max(edish_data$max_BILI_ULN), 4) + 2.5),\n",
    "           label = c(\"1 X ULN\", \"3 X ULN\")\n",
    "  ) +\n",
    "  \n",
    "  # set axis limits \n",
    "  coord_cartesian(ylim = c(min(edish_data$max_BILI_ULN) - 0.05,\n",
    "                           max(edish_data$max_BILI_ULN) + 0.2),\n",
    "                  clip = \"off\") +\n",
    "  \n",
    "  # axis labels \n",
    "  labs(x = \"Maximum ALT (/ULN)\",\n",
    "       y = \"Maximum BILI (/ULN)\",\n",
    "       title = \"Maximum Bilirubin VS Maximum Alanine Aminotransferase\") +\n",
    "  \n",
    "  # set log scales for x an y axis, \n",
    "  scale_x_continuous(trans='log2') +\n",
    "  scale_y_continuous(trans='log2') +\n",
    "  expand_limits(x=c(0, 6), y= c(0, 4)) + # the smallest axis limits given, but will be bigger if data points are\n",
    "  \n",
    "  # theme\n",
    "  theme( strip.background = element_blank(),\n",
    "         # legend.position = \"none\",\n",
    "         axis.line = element_line(colour = \"black\"),\n",
    "         axis.ticks = element_blank(),\n",
    "         strip.text = element_text(size = 8,\n",
    "                                   margin = margin(b = 5)),\n",
    "         panel.background = element_rect(fill = \"white\"),\n",
    "         panel.border = element_rect(colour = \"black\", fill=NA, size=1),\n",
    "         #panel.grid = element_line(colour = \"black\"),\n",
    "         plot.title = element_text(size = 15,\n",
    "                                   hjust = 0.5,\n",
    "                                   vjust = 10),\n",
    "         plot.margin = margin(50, 30, 30, 30),\n",
    "         plot.title.position = 'plot',\n",
    "         panel.spacing = unit(0.2, 'in'),\n",
    "         axis.title.x = element_text(size = 11,\n",
    "                                     margin = margin(t = 15),\n",
    "                                     color = \"black\"),\n",
    "         axis.title.y = element_text(size = 11,\n",
    "                                     margin = margin(r = 15),\n",
    "                                     color = \"black\"),\n",
    "         plot.subtitle = element_text(size = 11,\n",
    "                                      margin = margin(b = 15)),\n",
    "         axis.text.x = element_text(size = 12,\n",
    "                                    color = \"black\"),\n",
    "         axis.text.y = element_text(size = 11,\n",
    "                                    color = \"black\",\n",
    "                                    hjust = 0))"
   ]
  },
  {
   "cell_type": "code",
   "execution_count": null,
   "id": "4430dd9c-6d26-41ae-9180-91ddb449b85d",
   "metadata": {},
   "outputs": [],
   "source": [
    "dev.off() # Closes the plot and saves it as file"
   ]
  },
  {
   "cell_type": "code",
   "execution_count": 103,
   "id": "c78fe96a-6299-4b34-a44b-e6a695e1c31e",
   "metadata": {},
   "outputs": [
    {
     "data": {
      "text/html": [
       "<table class=\"dataframe\">\n",
       "<caption>A data.frame: 2014 × 38</caption>\n",
       "<thead>\n",
       "\t<tr><th scope=col>USUBJID</th><th scope=col>AVISITN</th><th scope=col>STUDYID</th><th scope=col>SITEID</th><th scope=col>SAFFL</th><th scope=col>TRTA</th><th scope=col>TRTAN</th><th scope=col>ADT</th><th scope=col>ADTM</th><th scope=col>ADY</th><th scope=col>⋯</th><th scope=col>LVOTFL</th><th scope=col>CRIT1</th><th scope=col>CRIT1FL</th><th scope=col>max_aval</th><th scope=col>max_ALT_ULN</th><th scope=col>max_BILI_ULN</th><th scope=col>status</th><th scope=col>n</th><th scope=col>x_lab</th><th scope=col>y_lab</th></tr>\n",
       "\t<tr><th scope=col>&lt;chr&gt;</th><th scope=col>&lt;dbl&gt;</th><th scope=col>&lt;chr&gt;</th><th scope=col>&lt;chr&gt;</th><th scope=col>&lt;chr&gt;</th><th scope=col>&lt;chr&gt;</th><th scope=col>&lt;dbl&gt;</th><th scope=col>&lt;date&gt;</th><th scope=col>&lt;dttm&gt;</th><th scope=col>&lt;dbl&gt;</th><th scope=col>⋯</th><th scope=col>&lt;chr&gt;</th><th scope=col>&lt;chr&gt;</th><th scope=col>&lt;chr&gt;</th><th scope=col>&lt;dbl&gt;</th><th scope=col>&lt;dbl&gt;</th><th scope=col>&lt;dbl&gt;</th><th scope=col>&lt;chr&gt;</th><th scope=col>&lt;int&gt;</th><th scope=col>&lt;dbl&gt;</th><th scope=col>&lt;dbl&gt;</th></tr>\n",
       "</thead>\n",
       "<tbody>\n",
       "\t<tr><td>01-701-1015</td><td> 10</td><td>CDISCPILOT01</td><td>701</td><td>Y</td><td><span style=white-space:pre-wrap>Placebo             </span></td><td> 0</td><td>2014-05-07</td><td>2014-05-07 11:21:00</td><td>126</td><td>⋯</td><td> </td><td>R2A1HI&gt;1.5</td><td>N</td><td>41</td><td>1.2058824</td><td>0.4885714</td><td><span style=white-space:pre-wrap>      </span></td><td> 45</td><td>1</td><td>0</td></tr>\n",
       "\t<tr><td>01-701-1015</td><td> 11</td><td>CDISCPILOT01</td><td>701</td><td>Y</td><td><span style=white-space:pre-wrap>Placebo             </span></td><td> 0</td><td>2014-05-21</td><td>2014-05-21 10:58:00</td><td>140</td><td>⋯</td><td> </td><td>R2A1HI&gt;1.5</td><td>N</td><td>41</td><td>1.2058824</td><td>0.4885714</td><td><span style=white-space:pre-wrap>      </span></td><td> 45</td><td>1</td><td>0</td></tr>\n",
       "\t<tr><td>01-701-1015</td><td> 12</td><td>CDISCPILOT01</td><td>701</td><td>Y</td><td><span style=white-space:pre-wrap>Placebo             </span></td><td> 0</td><td>2014-06-18</td><td>2014-06-18 13:00:00</td><td>168</td><td>⋯</td><td>Y</td><td>R2A1HI&gt;1.5</td><td>N</td><td>41</td><td>1.2058824</td><td>0.4885714</td><td><span style=white-space:pre-wrap>      </span></td><td> 45</td><td>1</td><td>0</td></tr>\n",
       "\t<tr><td>01-701-1015</td><td> 13</td><td>CDISCPILOT01</td><td>701</td><td>Y</td><td><span style=white-space:pre-wrap>Placebo             </span></td><td> 0</td><td>2014-07-02</td><td>2014-07-02 11:45:00</td><td>182</td><td>⋯</td><td> </td><td>R2A1HI&gt;1.5</td><td>N</td><td>41</td><td>1.2058824</td><td>0.4885714</td><td><span style=white-space:pre-wrap>      </span></td><td> 45</td><td>1</td><td>0</td></tr>\n",
       "\t<tr><td>01-701-1015</td><td><span style=white-space:pre-wrap>  3</span></td><td>CDISCPILOT01</td><td>701</td><td>Y</td><td><span style=white-space:pre-wrap>Placebo             </span></td><td> 0</td><td>2013-12-26</td><td>2013-12-26 14:45:00</td><td> -7</td><td>⋯</td><td> </td><td>R2A1HI&gt;1.5</td><td>N</td><td>41</td><td>1.2058824</td><td>0.4885714</td><td><span style=white-space:pre-wrap>      </span></td><td> 45</td><td>1</td><td>0</td></tr>\n",
       "\t<tr><td>01-701-1015</td><td><span style=white-space:pre-wrap>  4</span></td><td>CDISCPILOT01</td><td>701</td><td>Y</td><td><span style=white-space:pre-wrap>Placebo             </span></td><td> 0</td><td>2014-01-16</td><td>2014-01-16 13:17:00</td><td> 15</td><td>⋯</td><td> </td><td>R2A1HI&gt;1.5</td><td>N</td><td>41</td><td>1.2058824</td><td>0.4885714</td><td><span style=white-space:pre-wrap>      </span></td><td> 45</td><td>1</td><td>0</td></tr>\n",
       "\t<tr><td>01-701-1015</td><td><span style=white-space:pre-wrap>  5</span></td><td>CDISCPILOT01</td><td>701</td><td>Y</td><td><span style=white-space:pre-wrap>Placebo             </span></td><td> 0</td><td>2014-01-30</td><td>2014-01-30 08:50:00</td><td> 29</td><td>⋯</td><td> </td><td>R2A1HI&gt;1.5</td><td>N</td><td>41</td><td>1.2058824</td><td>0.4885714</td><td><span style=white-space:pre-wrap>      </span></td><td> 45</td><td>1</td><td>0</td></tr>\n",
       "\t<tr><td>01-701-1015</td><td>601</td><td>CDISCPILOT01</td><td>701</td><td>Y</td><td><span style=white-space:pre-wrap>Placebo             </span></td><td> 0</td><td>2014-06-18</td><td>2014-06-18 13:00:00</td><td>168</td><td>⋯</td><td>Y</td><td>R2A1HI&gt;1.5</td><td>N</td><td>41</td><td>1.2058824</td><td>0.4885714</td><td><span style=white-space:pre-wrap>      </span></td><td> 45</td><td>1</td><td>0</td></tr>\n",
       "\t<tr><td>01-701-1015</td><td><span style=white-space:pre-wrap>  7</span></td><td>CDISCPILOT01</td><td>701</td><td>Y</td><td><span style=white-space:pre-wrap>Placebo             </span></td><td> 0</td><td>2014-02-12</td><td>2014-02-12 12:56:00</td><td> 42</td><td>⋯</td><td> </td><td>R2A1HI&gt;1.5</td><td>N</td><td>41</td><td>1.2058824</td><td>0.4885714</td><td><span style=white-space:pre-wrap>      </span></td><td> 45</td><td>1</td><td>0</td></tr>\n",
       "\t<tr><td>01-701-1015</td><td><span style=white-space:pre-wrap>  8</span></td><td>CDISCPILOT01</td><td>701</td><td>Y</td><td><span style=white-space:pre-wrap>Placebo             </span></td><td> 0</td><td>2014-03-05</td><td>2014-03-05 12:25:00</td><td> 63</td><td>⋯</td><td> </td><td>R2A1HI&gt;1.5</td><td>N</td><td>41</td><td>1.2058824</td><td>0.4885714</td><td><span style=white-space:pre-wrap>      </span></td><td> 45</td><td>1</td><td>0</td></tr>\n",
       "\t<tr><td>01-701-1015</td><td><span style=white-space:pre-wrap>  9</span></td><td>CDISCPILOT01</td><td>701</td><td>Y</td><td><span style=white-space:pre-wrap>Placebo             </span></td><td> 0</td><td>2014-03-26</td><td>2014-03-26 15:15:00</td><td> 84</td><td>⋯</td><td> </td><td>R2A1HI&gt;1.5</td><td>N</td><td>41</td><td>1.2058824</td><td>0.4885714</td><td><span style=white-space:pre-wrap>      </span></td><td> 45</td><td>1</td><td>0</td></tr>\n",
       "\t<tr><td>01-701-1023</td><td><span style=white-space:pre-wrap>  3</span></td><td>CDISCPILOT01</td><td>701</td><td>Y</td><td><span style=white-space:pre-wrap>Placebo             </span></td><td> 0</td><td>2012-07-22</td><td>2012-07-22 12:13:00</td><td>-14</td><td>⋯</td><td> </td><td>R2A1HI&gt;1.5</td><td>N</td><td>38</td><td>0.8837209</td><td>0.5700000</td><td>Normal</td><td>205</td><td>0</td><td>0</td></tr>\n",
       "\t<tr><td>01-701-1023</td><td><span style=white-space:pre-wrap>  4</span></td><td>CDISCPILOT01</td><td>701</td><td>Y</td><td><span style=white-space:pre-wrap>Placebo             </span></td><td> 0</td><td>2012-08-27</td><td>2012-08-27 15:47:00</td><td> 23</td><td>⋯</td><td> </td><td>R2A1HI&gt;1.5</td><td>N</td><td>38</td><td>0.8837209</td><td>0.5700000</td><td>Normal</td><td>205</td><td>0</td><td>0</td></tr>\n",
       "\t<tr><td>01-701-1023</td><td><span style=white-space:pre-wrap>  5</span></td><td>CDISCPILOT01</td><td>701</td><td>Y</td><td><span style=white-space:pre-wrap>Placebo             </span></td><td> 0</td><td>2012-09-02</td><td>2012-09-02 10:15:00</td><td> 29</td><td>⋯</td><td>Y</td><td>R2A1HI&gt;1.5</td><td>N</td><td>38</td><td>0.8837209</td><td>0.5700000</td><td>Normal</td><td>205</td><td>0</td><td>0</td></tr>\n",
       "\t<tr><td>01-701-1023</td><td>601</td><td>CDISCPILOT01</td><td>701</td><td>Y</td><td><span style=white-space:pre-wrap>Placebo             </span></td><td> 0</td><td>2012-09-02</td><td>2012-09-02 10:15:00</td><td> 29</td><td>⋯</td><td>Y</td><td>R2A1HI&gt;1.5</td><td>N</td><td>38</td><td>0.8837209</td><td>0.5700000</td><td>Normal</td><td>205</td><td>0</td><td>0</td></tr>\n",
       "\t<tr><td>01-701-1028</td><td> 10</td><td>CDISCPILOT01</td><td>701</td><td>Y</td><td>Xanomeline High Dose</td><td>81</td><td>2013-11-06</td><td>2013-11-06 10:08:00</td><td>111</td><td>⋯</td><td> </td><td>R2A1HI&gt;1.5</td><td>N</td><td>33</td><td>0.9428571</td><td>0.8957143</td><td>Normal</td><td>205</td><td>0</td><td>0</td></tr>\n",
       "\t<tr><td>01-701-1028</td><td> 11</td><td>CDISCPILOT01</td><td>701</td><td>Y</td><td>Xanomeline High Dose</td><td>81</td><td>2013-12-04</td><td>2013-12-04 15:10:00</td><td>139</td><td>⋯</td><td> </td><td>R2A1HI&gt;1.5</td><td>N</td><td>33</td><td>0.9428571</td><td>0.8957143</td><td>Normal</td><td>205</td><td>0</td><td>0</td></tr>\n",
       "\t<tr><td>01-701-1028</td><td> 12</td><td>CDISCPILOT01</td><td>701</td><td>Y</td><td>Xanomeline High Dose</td><td>81</td><td>2014-01-06</td><td>2014-01-06 10:00:00</td><td>172</td><td>⋯</td><td>Y</td><td>R2A1HI&gt;1.5</td><td>N</td><td>33</td><td>0.9428571</td><td>0.8957143</td><td>Normal</td><td>205</td><td>0</td><td>0</td></tr>\n",
       "\t<tr><td>01-701-1028</td><td> 13</td><td>CDISCPILOT01</td><td>701</td><td>Y</td><td>Xanomeline High Dose</td><td>81</td><td>2014-01-14</td><td>2014-01-14 11:10:00</td><td>180</td><td>⋯</td><td> </td><td>R2A1HI&gt;1.5</td><td>N</td><td>33</td><td>0.9428571</td><td>0.8957143</td><td>Normal</td><td>205</td><td>0</td><td>0</td></tr>\n",
       "\t<tr><td>01-701-1028</td><td><span style=white-space:pre-wrap>  3</span></td><td>CDISCPILOT01</td><td>701</td><td>Y</td><td>Xanomeline High Dose</td><td>81</td><td>2013-07-11</td><td>2013-07-11 12:02:00</td><td> -8</td><td>⋯</td><td> </td><td>R2A1HI&gt;1.5</td><td>N</td><td>33</td><td>0.9428571</td><td>0.8957143</td><td>Normal</td><td>205</td><td>0</td><td>0</td></tr>\n",
       "\t<tr><td>01-701-1028</td><td><span style=white-space:pre-wrap>  4</span></td><td>CDISCPILOT01</td><td>701</td><td>Y</td><td>Xanomeline High Dose</td><td>81</td><td>2013-08-01</td><td>2013-08-01 09:15:00</td><td> 14</td><td>⋯</td><td> </td><td>R2A1HI&gt;1.5</td><td>N</td><td>33</td><td>0.9428571</td><td>0.8957143</td><td>Normal</td><td>205</td><td>0</td><td>0</td></tr>\n",
       "\t<tr><td>01-701-1028</td><td><span style=white-space:pre-wrap>  5</span></td><td>CDISCPILOT01</td><td>701</td><td>Y</td><td>Xanomeline High Dose</td><td>81</td><td>2013-08-14</td><td>2013-08-14 13:24:00</td><td> 27</td><td>⋯</td><td> </td><td>R2A1HI&gt;1.5</td><td>N</td><td>33</td><td>0.9428571</td><td>0.8957143</td><td>Normal</td><td>205</td><td>0</td><td>0</td></tr>\n",
       "\t<tr><td>01-701-1028</td><td>601</td><td>CDISCPILOT01</td><td>701</td><td>Y</td><td>Xanomeline High Dose</td><td>81</td><td>2014-01-06</td><td>2014-01-06 10:00:00</td><td>172</td><td>⋯</td><td>Y</td><td>R2A1HI&gt;1.5</td><td>N</td><td>33</td><td>0.9428571</td><td>0.8957143</td><td>Normal</td><td>205</td><td>0</td><td>0</td></tr>\n",
       "\t<tr><td>01-701-1028</td><td><span style=white-space:pre-wrap>  7</span></td><td>CDISCPILOT01</td><td>701</td><td>Y</td><td>Xanomeline High Dose</td><td>81</td><td>2013-08-29</td><td>2013-08-29 11:54:00</td><td> 42</td><td>⋯</td><td> </td><td>R2A1HI&gt;1.5</td><td>N</td><td>33</td><td>0.9428571</td><td>0.8957143</td><td>Normal</td><td>205</td><td>0</td><td>0</td></tr>\n",
       "\t<tr><td>01-701-1028</td><td><span style=white-space:pre-wrap>  8</span></td><td>CDISCPILOT01</td><td>701</td><td>Y</td><td>Xanomeline High Dose</td><td>81</td><td>2013-09-10</td><td>2013-09-10 09:13:00</td><td> 54</td><td>⋯</td><td> </td><td>R2A1HI&gt;1.5</td><td>N</td><td>33</td><td>0.9428571</td><td>0.8957143</td><td>Normal</td><td>205</td><td>0</td><td>0</td></tr>\n",
       "\t<tr><td>01-701-1028</td><td><span style=white-space:pre-wrap>  9</span></td><td>CDISCPILOT01</td><td>701</td><td>Y</td><td>Xanomeline High Dose</td><td>81</td><td>2013-10-09</td><td>2013-10-09 08:42:00</td><td> 83</td><td>⋯</td><td> </td><td>R2A1HI&gt;1.5</td><td>N</td><td>33</td><td>0.9428571</td><td>0.8957143</td><td>Normal</td><td>205</td><td>0</td><td>0</td></tr>\n",
       "\t<tr><td>01-701-1033</td><td><span style=white-space:pre-wrap>  3</span></td><td>CDISCPILOT01</td><td>701</td><td>Y</td><td>Xanomeline Low Dose </td><td>54</td><td>2014-03-10</td><td>2014-03-10 12:31:00</td><td> -8</td><td>⋯</td><td> </td><td>R2A1HI&gt;1.5</td><td>N</td><td>35</td><td>1.0000000</td><td>0.7328571</td><td><span style=white-space:pre-wrap>      </span></td><td> 45</td><td>1</td><td>0</td></tr>\n",
       "\t<tr><td>01-701-1033</td><td><span style=white-space:pre-wrap>  4</span></td><td>CDISCPILOT01</td><td>701</td><td>Y</td><td>Xanomeline Low Dose </td><td>54</td><td>2014-04-01</td><td>2014-04-01 08:55:00</td><td> 15</td><td>⋯</td><td> </td><td>R2A1HI&gt;1.5</td><td>N</td><td>35</td><td>1.0000000</td><td>0.7328571</td><td><span style=white-space:pre-wrap>      </span></td><td> 45</td><td>1</td><td>0</td></tr>\n",
       "\t<tr><td>01-701-1033</td><td><span style=white-space:pre-wrap>  5</span></td><td>CDISCPILOT01</td><td>701</td><td>Y</td><td>Xanomeline Low Dose </td><td>54</td><td>2014-04-14</td><td>2014-04-14 10:38:00</td><td> 28</td><td>⋯</td><td>Y</td><td>R2A1HI&gt;1.5</td><td>N</td><td>35</td><td>1.0000000</td><td>0.7328571</td><td><span style=white-space:pre-wrap>      </span></td><td> 45</td><td>1</td><td>0</td></tr>\n",
       "\t<tr><td>01-701-1033</td><td>601</td><td>CDISCPILOT01</td><td>701</td><td>Y</td><td>Xanomeline Low Dose </td><td>54</td><td>2014-04-14</td><td>2014-04-14 10:38:00</td><td> 28</td><td>⋯</td><td>Y</td><td>R2A1HI&gt;1.5</td><td>N</td><td>35</td><td>1.0000000</td><td>0.7328571</td><td><span style=white-space:pre-wrap>      </span></td><td> 45</td><td>1</td><td>0</td></tr>\n",
       "\t<tr><td>⋮</td><td>⋮</td><td>⋮</td><td>⋮</td><td>⋮</td><td>⋮</td><td>⋮</td><td>⋮</td><td>⋮</td><td>⋮</td><td>⋱</td><td>⋮</td><td>⋮</td><td>⋮</td><td>⋮</td><td>⋮</td><td>⋮</td><td>⋮</td><td>⋮</td><td>⋮</td><td>⋮</td></tr>\n",
       "\t<tr><td>01-718-1328</td><td><span style=white-space:pre-wrap>  4</span></td><td>CDISCPILOT01</td><td>718</td><td>Y</td><td>Xanomeline High Dose</td><td>81</td><td>2013-02-14</td><td>2013-02-14 12:50:00</td><td> 14</td><td>⋯</td><td> </td><td>R2A1HI&gt;1.5</td><td>N</td><td>28</td><td>0.8000000</td><td>0.6514286</td><td>Normal</td><td>205</td><td>0</td><td>0</td></tr>\n",
       "\t<tr><td>01-718-1328</td><td><span style=white-space:pre-wrap>  5</span></td><td>CDISCPILOT01</td><td>718</td><td>Y</td><td>Xanomeline High Dose</td><td>81</td><td>2013-03-07</td><td>2013-03-07 10:15:00</td><td> 35</td><td>⋯</td><td> </td><td>R2A1HI&gt;1.5</td><td>N</td><td>28</td><td>0.8000000</td><td>0.6514286</td><td>Normal</td><td>205</td><td>0</td><td>0</td></tr>\n",
       "\t<tr><td>01-718-1328</td><td>601</td><td>CDISCPILOT01</td><td>718</td><td>Y</td><td>Xanomeline High Dose</td><td>81</td><td>2013-05-01</td><td>2013-05-01 15:15:00</td><td> 90</td><td>⋯</td><td>Y</td><td>R2A1HI&gt;1.5</td><td>N</td><td>28</td><td>0.8000000</td><td>0.6514286</td><td>Normal</td><td>205</td><td>0</td><td>0</td></tr>\n",
       "\t<tr><td>01-718-1328</td><td><span style=white-space:pre-wrap>  7</span></td><td>CDISCPILOT01</td><td>718</td><td>Y</td><td>Xanomeline High Dose</td><td>81</td><td>2013-03-20</td><td>2013-03-20 09:20:00</td><td> 48</td><td>⋯</td><td> </td><td>R2A1HI&gt;1.5</td><td>N</td><td>28</td><td>0.8000000</td><td>0.6514286</td><td>Normal</td><td>205</td><td>0</td><td>0</td></tr>\n",
       "\t<tr><td>01-718-1328</td><td><span style=white-space:pre-wrap>  8</span></td><td>CDISCPILOT01</td><td>718</td><td>Y</td><td>Xanomeline High Dose</td><td>81</td><td>2013-04-04</td><td>2013-04-04 10:45:00</td><td> 63</td><td>⋯</td><td> </td><td>R2A1HI&gt;1.5</td><td>N</td><td>28</td><td>0.8000000</td><td>0.6514286</td><td>Normal</td><td>205</td><td>0</td><td>0</td></tr>\n",
       "\t<tr><td>01-718-1328</td><td><span style=white-space:pre-wrap>  9</span></td><td>CDISCPILOT01</td><td>718</td><td>Y</td><td>Xanomeline High Dose</td><td>81</td><td>2013-05-01</td><td>2013-05-01 15:15:00</td><td> 90</td><td>⋯</td><td>Y</td><td>R2A1HI&gt;1.5</td><td>N</td><td>28</td><td>0.8000000</td><td>0.6514286</td><td>Normal</td><td>205</td><td>0</td><td>0</td></tr>\n",
       "\t<tr><td>01-718-1355</td><td> 10</td><td>CDISCPILOT01</td><td>718</td><td>Y</td><td><span style=white-space:pre-wrap>Placebo             </span></td><td> 0</td><td>2013-06-20</td><td>2013-06-20 14:30:00</td><td>113</td><td>⋯</td><td> </td><td>R2A1HI&gt;1.5</td><td>N</td><td>13</td><td>0.3714286</td><td>0.7328571</td><td>Normal</td><td>205</td><td>0</td><td>0</td></tr>\n",
       "\t<tr><td>01-718-1355</td><td> 11</td><td>CDISCPILOT01</td><td>718</td><td>Y</td><td><span style=white-space:pre-wrap>Placebo             </span></td><td> 0</td><td>2013-07-18</td><td>2013-07-18 13:25:00</td><td>141</td><td>⋯</td><td> </td><td>R2A1HI&gt;1.5</td><td>N</td><td>13</td><td>0.3714286</td><td>0.7328571</td><td>Normal</td><td>205</td><td>0</td><td>0</td></tr>\n",
       "\t<tr><td>01-718-1355</td><td> 12</td><td>CDISCPILOT01</td><td>718</td><td>Y</td><td><span style=white-space:pre-wrap>Placebo             </span></td><td> 0</td><td>2013-08-15</td><td>2013-08-15 15:45:00</td><td>169</td><td>⋯</td><td>Y</td><td>R2A1HI&gt;1.5</td><td>N</td><td>13</td><td>0.3714286</td><td>0.7328571</td><td>Normal</td><td>205</td><td>0</td><td>0</td></tr>\n",
       "\t<tr><td>01-718-1355</td><td> 13</td><td>CDISCPILOT01</td><td>718</td><td>Y</td><td><span style=white-space:pre-wrap>Placebo             </span></td><td> 0</td><td>2013-08-29</td><td>2013-08-29 14:00:00</td><td>183</td><td>⋯</td><td> </td><td>R2A1HI&gt;1.5</td><td>N</td><td>13</td><td>0.3714286</td><td>0.7328571</td><td>Normal</td><td>205</td><td>0</td><td>0</td></tr>\n",
       "\t<tr><td>01-718-1355</td><td><span style=white-space:pre-wrap>  3</span></td><td>CDISCPILOT01</td><td>718</td><td>Y</td><td><span style=white-space:pre-wrap>Placebo             </span></td><td> 0</td><td>2013-02-12</td><td>2013-02-12 15:20:00</td><td>-16</td><td>⋯</td><td> </td><td>R2A1HI&gt;1.5</td><td>N</td><td>13</td><td>0.3714286</td><td>0.7328571</td><td>Normal</td><td>205</td><td>0</td><td>0</td></tr>\n",
       "\t<tr><td>01-718-1355</td><td><span style=white-space:pre-wrap>  4</span></td><td>CDISCPILOT01</td><td>718</td><td>Y</td><td><span style=white-space:pre-wrap>Placebo             </span></td><td> 0</td><td>2013-03-16</td><td>2013-03-16 13:00:00</td><td> 17</td><td>⋯</td><td> </td><td>R2A1HI&gt;1.5</td><td>N</td><td>13</td><td>0.3714286</td><td>0.7328571</td><td>Normal</td><td>205</td><td>0</td><td>0</td></tr>\n",
       "\t<tr><td>01-718-1355</td><td><span style=white-space:pre-wrap>  5</span></td><td>CDISCPILOT01</td><td>718</td><td>Y</td><td><span style=white-space:pre-wrap>Placebo             </span></td><td> 0</td><td>2013-03-28</td><td>2013-03-28 15:30:00</td><td> 29</td><td>⋯</td><td> </td><td>R2A1HI&gt;1.5</td><td>N</td><td>13</td><td>0.3714286</td><td>0.7328571</td><td>Normal</td><td>205</td><td>0</td><td>0</td></tr>\n",
       "\t<tr><td>01-718-1355</td><td>601</td><td>CDISCPILOT01</td><td>718</td><td>Y</td><td><span style=white-space:pre-wrap>Placebo             </span></td><td> 0</td><td>2013-08-15</td><td>2013-08-15 15:45:00</td><td>169</td><td>⋯</td><td>Y</td><td>R2A1HI&gt;1.5</td><td>N</td><td>13</td><td>0.3714286</td><td>0.7328571</td><td>Normal</td><td>205</td><td>0</td><td>0</td></tr>\n",
       "\t<tr><td>01-718-1355</td><td><span style=white-space:pre-wrap>  7</span></td><td>CDISCPILOT01</td><td>718</td><td>Y</td><td><span style=white-space:pre-wrap>Placebo             </span></td><td> 0</td><td>2013-04-13</td><td>2013-04-13 12:55:00</td><td> 45</td><td>⋯</td><td> </td><td>R2A1HI&gt;1.5</td><td>N</td><td>13</td><td>0.3714286</td><td>0.7328571</td><td>Normal</td><td>205</td><td>0</td><td>0</td></tr>\n",
       "\t<tr><td>01-718-1355</td><td><span style=white-space:pre-wrap>  8</span></td><td>CDISCPILOT01</td><td>718</td><td>Y</td><td><span style=white-space:pre-wrap>Placebo             </span></td><td> 0</td><td>2013-04-25</td><td>2013-04-25 15:40:00</td><td> 57</td><td>⋯</td><td> </td><td>R2A1HI&gt;1.5</td><td>N</td><td>13</td><td>0.3714286</td><td>0.7328571</td><td>Normal</td><td>205</td><td>0</td><td>0</td></tr>\n",
       "\t<tr><td>01-718-1355</td><td><span style=white-space:pre-wrap>  9</span></td><td>CDISCPILOT01</td><td>718</td><td>Y</td><td><span style=white-space:pre-wrap>Placebo             </span></td><td> 0</td><td>2013-05-23</td><td>2013-05-23 13:50:00</td><td> 85</td><td>⋯</td><td> </td><td>R2A1HI&gt;1.5</td><td>N</td><td>13</td><td>0.3714286</td><td>0.7328571</td><td>Normal</td><td>205</td><td>0</td><td>0</td></tr>\n",
       "\t<tr><td>01-718-1371</td><td><span style=white-space:pre-wrap>  3</span></td><td>CDISCPILOT01</td><td>718</td><td>Y</td><td>Xanomeline High Dose</td><td>81</td><td>2013-04-11</td><td>2013-04-11 11:25:00</td><td>-15</td><td>⋯</td><td> </td><td>R2A1HI&gt;1.5</td><td>N</td><td>30</td><td>0.9375000</td><td>0.4071429</td><td>Normal</td><td>205</td><td>0</td><td>0</td></tr>\n",
       "\t<tr><td>01-718-1371</td><td><span style=white-space:pre-wrap>  4</span></td><td>CDISCPILOT01</td><td>718</td><td>Y</td><td>Xanomeline High Dose</td><td>81</td><td>2013-05-08</td><td>2013-05-08 10:55:00</td><td> 13</td><td>⋯</td><td> </td><td>R2A1HI&gt;1.5</td><td>N</td><td>30</td><td>0.9375000</td><td>0.4071429</td><td>Normal</td><td>205</td><td>0</td><td>0</td></tr>\n",
       "\t<tr><td>01-718-1371</td><td><span style=white-space:pre-wrap>  5</span></td><td>CDISCPILOT01</td><td>718</td><td>Y</td><td>Xanomeline High Dose</td><td>81</td><td>2013-05-24</td><td>2013-05-24 10:30:00</td><td> 29</td><td>⋯</td><td> </td><td>R2A1HI&gt;1.5</td><td>N</td><td>30</td><td>0.9375000</td><td>0.4071429</td><td>Normal</td><td>205</td><td>0</td><td>0</td></tr>\n",
       "\t<tr><td>01-718-1371</td><td>601</td><td>CDISCPILOT01</td><td>718</td><td>Y</td><td>Xanomeline High Dose</td><td>81</td><td>2013-08-01</td><td>2013-08-01 14:55:00</td><td> 98</td><td>⋯</td><td>Y</td><td>R2A1HI&gt;1.5</td><td>N</td><td>30</td><td>0.9375000</td><td>0.4071429</td><td>Normal</td><td>205</td><td>0</td><td>0</td></tr>\n",
       "\t<tr><td>01-718-1371</td><td><span style=white-space:pre-wrap>  7</span></td><td>CDISCPILOT01</td><td>718</td><td>Y</td><td>Xanomeline High Dose</td><td>81</td><td>2013-06-20</td><td>2013-06-20 10:45:00</td><td> 56</td><td>⋯</td><td> </td><td>R2A1HI&gt;1.5</td><td>N</td><td>30</td><td>0.9375000</td><td>0.4071429</td><td>Normal</td><td>205</td><td>0</td><td>0</td></tr>\n",
       "\t<tr><td>01-718-1371</td><td><span style=white-space:pre-wrap>  8</span></td><td>CDISCPILOT01</td><td>718</td><td>Y</td><td>Xanomeline High Dose</td><td>81</td><td>2013-07-04</td><td>2013-07-04 12:30:00</td><td> 70</td><td>⋯</td><td> </td><td>R2A1HI&gt;1.5</td><td>N</td><td>30</td><td>0.9375000</td><td>0.4071429</td><td>Normal</td><td>205</td><td>0</td><td>0</td></tr>\n",
       "\t<tr><td>01-718-1371</td><td><span style=white-space:pre-wrap>  9</span></td><td>CDISCPILOT01</td><td>718</td><td>Y</td><td>Xanomeline High Dose</td><td>81</td><td>2013-08-01</td><td>2013-08-01 14:55:00</td><td> 98</td><td>⋯</td><td>Y</td><td>R2A1HI&gt;1.5</td><td>N</td><td>30</td><td>0.9375000</td><td>0.4071429</td><td>Normal</td><td>205</td><td>0</td><td>0</td></tr>\n",
       "\t<tr><td>01-718-1427</td><td><span style=white-space:pre-wrap>  3</span></td><td>CDISCPILOT01</td><td>718</td><td>Y</td><td>Xanomeline High Dose</td><td>81</td><td>2012-12-09</td><td>2012-12-09 12:30:00</td><td> -8</td><td>⋯</td><td> </td><td>R2A1HI&gt;1.5</td><td>N</td><td>16</td><td>0.5000000</td><td>0.4885714</td><td>Normal</td><td>205</td><td>0</td><td>0</td></tr>\n",
       "\t<tr><td>01-718-1427</td><td><span style=white-space:pre-wrap>  4</span></td><td>CDISCPILOT01</td><td>718</td><td>Y</td><td>Xanomeline High Dose</td><td>81</td><td>2012-12-31</td><td>2012-12-31 10:45:00</td><td> 15</td><td>⋯</td><td> </td><td>R2A1HI&gt;1.5</td><td>N</td><td>16</td><td>0.5000000</td><td>0.4885714</td><td>Normal</td><td>205</td><td>0</td><td>0</td></tr>\n",
       "\t<tr><td>01-718-1427</td><td><span style=white-space:pre-wrap>  5</span></td><td>CDISCPILOT01</td><td>718</td><td>Y</td><td>Xanomeline High Dose</td><td>81</td><td>2013-01-17</td><td>2013-01-17 08:50:00</td><td> 32</td><td>⋯</td><td> </td><td>R2A1HI&gt;1.5</td><td>N</td><td>16</td><td>0.5000000</td><td>0.4885714</td><td>Normal</td><td>205</td><td>0</td><td>0</td></tr>\n",
       "\t<tr><td>01-718-1427</td><td>601</td><td>CDISCPILOT01</td><td>718</td><td>Y</td><td>Xanomeline High Dose</td><td>81</td><td>2013-02-11</td><td>2013-02-11 12:40:00</td><td> 57</td><td>⋯</td><td>Y</td><td>R2A1HI&gt;1.5</td><td>N</td><td>16</td><td>0.5000000</td><td>0.4885714</td><td>Normal</td><td>205</td><td>0</td><td>0</td></tr>\n",
       "\t<tr><td>01-718-1427</td><td><span style=white-space:pre-wrap>  7</span></td><td>CDISCPILOT01</td><td>718</td><td>Y</td><td>Xanomeline High Dose</td><td>81</td><td>2013-01-28</td><td>2013-01-28 13:45:00</td><td> 43</td><td>⋯</td><td> </td><td>R2A1HI&gt;1.5</td><td>N</td><td>16</td><td>0.5000000</td><td>0.4885714</td><td>Normal</td><td>205</td><td>0</td><td>0</td></tr>\n",
       "\t<tr><td>01-718-1427</td><td><span style=white-space:pre-wrap>  8</span></td><td>CDISCPILOT01</td><td>718</td><td>Y</td><td>Xanomeline High Dose</td><td>81</td><td>2013-02-11</td><td>2013-02-11 12:40:00</td><td> 57</td><td>⋯</td><td>Y</td><td>R2A1HI&gt;1.5</td><td>N</td><td>16</td><td>0.5000000</td><td>0.4885714</td><td>Normal</td><td>205</td><td>0</td><td>0</td></tr>\n",
       "</tbody>\n",
       "</table>\n"
      ],
      "text/latex": [
       "A data.frame: 2014 × 38\n",
       "\\begin{tabular}{lllllllllllllllllllll}\n",
       " USUBJID & AVISITN & STUDYID & SITEID & SAFFL & TRTA & TRTAN & ADT & ADTM & ADY & ⋯ & LVOTFL & CRIT1 & CRIT1FL & max\\_aval & max\\_ALT\\_ULN & max\\_BILI\\_ULN & status & n & x\\_lab & y\\_lab\\\\\n",
       " <chr> & <dbl> & <chr> & <chr> & <chr> & <chr> & <dbl> & <date> & <dttm> & <dbl> & ⋯ & <chr> & <chr> & <chr> & <dbl> & <dbl> & <dbl> & <chr> & <int> & <dbl> & <dbl>\\\\\n",
       "\\hline\n",
       "\t 01-701-1015 &  10 & CDISCPILOT01 & 701 & Y & Placebo              &  0 & 2014-05-07 & 2014-05-07 11:21:00 & 126 & ⋯ &   & R2A1HI>1.5 & N & 41 & 1.2058824 & 0.4885714 &        &  45 & 1 & 0\\\\\n",
       "\t 01-701-1015 &  11 & CDISCPILOT01 & 701 & Y & Placebo              &  0 & 2014-05-21 & 2014-05-21 10:58:00 & 140 & ⋯ &   & R2A1HI>1.5 & N & 41 & 1.2058824 & 0.4885714 &        &  45 & 1 & 0\\\\\n",
       "\t 01-701-1015 &  12 & CDISCPILOT01 & 701 & Y & Placebo              &  0 & 2014-06-18 & 2014-06-18 13:00:00 & 168 & ⋯ & Y & R2A1HI>1.5 & N & 41 & 1.2058824 & 0.4885714 &        &  45 & 1 & 0\\\\\n",
       "\t 01-701-1015 &  13 & CDISCPILOT01 & 701 & Y & Placebo              &  0 & 2014-07-02 & 2014-07-02 11:45:00 & 182 & ⋯ &   & R2A1HI>1.5 & N & 41 & 1.2058824 & 0.4885714 &        &  45 & 1 & 0\\\\\n",
       "\t 01-701-1015 &   3 & CDISCPILOT01 & 701 & Y & Placebo              &  0 & 2013-12-26 & 2013-12-26 14:45:00 &  -7 & ⋯ &   & R2A1HI>1.5 & N & 41 & 1.2058824 & 0.4885714 &        &  45 & 1 & 0\\\\\n",
       "\t 01-701-1015 &   4 & CDISCPILOT01 & 701 & Y & Placebo              &  0 & 2014-01-16 & 2014-01-16 13:17:00 &  15 & ⋯ &   & R2A1HI>1.5 & N & 41 & 1.2058824 & 0.4885714 &        &  45 & 1 & 0\\\\\n",
       "\t 01-701-1015 &   5 & CDISCPILOT01 & 701 & Y & Placebo              &  0 & 2014-01-30 & 2014-01-30 08:50:00 &  29 & ⋯ &   & R2A1HI>1.5 & N & 41 & 1.2058824 & 0.4885714 &        &  45 & 1 & 0\\\\\n",
       "\t 01-701-1015 & 601 & CDISCPILOT01 & 701 & Y & Placebo              &  0 & 2014-06-18 & 2014-06-18 13:00:00 & 168 & ⋯ & Y & R2A1HI>1.5 & N & 41 & 1.2058824 & 0.4885714 &        &  45 & 1 & 0\\\\\n",
       "\t 01-701-1015 &   7 & CDISCPILOT01 & 701 & Y & Placebo              &  0 & 2014-02-12 & 2014-02-12 12:56:00 &  42 & ⋯ &   & R2A1HI>1.5 & N & 41 & 1.2058824 & 0.4885714 &        &  45 & 1 & 0\\\\\n",
       "\t 01-701-1015 &   8 & CDISCPILOT01 & 701 & Y & Placebo              &  0 & 2014-03-05 & 2014-03-05 12:25:00 &  63 & ⋯ &   & R2A1HI>1.5 & N & 41 & 1.2058824 & 0.4885714 &        &  45 & 1 & 0\\\\\n",
       "\t 01-701-1015 &   9 & CDISCPILOT01 & 701 & Y & Placebo              &  0 & 2014-03-26 & 2014-03-26 15:15:00 &  84 & ⋯ &   & R2A1HI>1.5 & N & 41 & 1.2058824 & 0.4885714 &        &  45 & 1 & 0\\\\\n",
       "\t 01-701-1023 &   3 & CDISCPILOT01 & 701 & Y & Placebo              &  0 & 2012-07-22 & 2012-07-22 12:13:00 & -14 & ⋯ &   & R2A1HI>1.5 & N & 38 & 0.8837209 & 0.5700000 & Normal & 205 & 0 & 0\\\\\n",
       "\t 01-701-1023 &   4 & CDISCPILOT01 & 701 & Y & Placebo              &  0 & 2012-08-27 & 2012-08-27 15:47:00 &  23 & ⋯ &   & R2A1HI>1.5 & N & 38 & 0.8837209 & 0.5700000 & Normal & 205 & 0 & 0\\\\\n",
       "\t 01-701-1023 &   5 & CDISCPILOT01 & 701 & Y & Placebo              &  0 & 2012-09-02 & 2012-09-02 10:15:00 &  29 & ⋯ & Y & R2A1HI>1.5 & N & 38 & 0.8837209 & 0.5700000 & Normal & 205 & 0 & 0\\\\\n",
       "\t 01-701-1023 & 601 & CDISCPILOT01 & 701 & Y & Placebo              &  0 & 2012-09-02 & 2012-09-02 10:15:00 &  29 & ⋯ & Y & R2A1HI>1.5 & N & 38 & 0.8837209 & 0.5700000 & Normal & 205 & 0 & 0\\\\\n",
       "\t 01-701-1028 &  10 & CDISCPILOT01 & 701 & Y & Xanomeline High Dose & 81 & 2013-11-06 & 2013-11-06 10:08:00 & 111 & ⋯ &   & R2A1HI>1.5 & N & 33 & 0.9428571 & 0.8957143 & Normal & 205 & 0 & 0\\\\\n",
       "\t 01-701-1028 &  11 & CDISCPILOT01 & 701 & Y & Xanomeline High Dose & 81 & 2013-12-04 & 2013-12-04 15:10:00 & 139 & ⋯ &   & R2A1HI>1.5 & N & 33 & 0.9428571 & 0.8957143 & Normal & 205 & 0 & 0\\\\\n",
       "\t 01-701-1028 &  12 & CDISCPILOT01 & 701 & Y & Xanomeline High Dose & 81 & 2014-01-06 & 2014-01-06 10:00:00 & 172 & ⋯ & Y & R2A1HI>1.5 & N & 33 & 0.9428571 & 0.8957143 & Normal & 205 & 0 & 0\\\\\n",
       "\t 01-701-1028 &  13 & CDISCPILOT01 & 701 & Y & Xanomeline High Dose & 81 & 2014-01-14 & 2014-01-14 11:10:00 & 180 & ⋯ &   & R2A1HI>1.5 & N & 33 & 0.9428571 & 0.8957143 & Normal & 205 & 0 & 0\\\\\n",
       "\t 01-701-1028 &   3 & CDISCPILOT01 & 701 & Y & Xanomeline High Dose & 81 & 2013-07-11 & 2013-07-11 12:02:00 &  -8 & ⋯ &   & R2A1HI>1.5 & N & 33 & 0.9428571 & 0.8957143 & Normal & 205 & 0 & 0\\\\\n",
       "\t 01-701-1028 &   4 & CDISCPILOT01 & 701 & Y & Xanomeline High Dose & 81 & 2013-08-01 & 2013-08-01 09:15:00 &  14 & ⋯ &   & R2A1HI>1.5 & N & 33 & 0.9428571 & 0.8957143 & Normal & 205 & 0 & 0\\\\\n",
       "\t 01-701-1028 &   5 & CDISCPILOT01 & 701 & Y & Xanomeline High Dose & 81 & 2013-08-14 & 2013-08-14 13:24:00 &  27 & ⋯ &   & R2A1HI>1.5 & N & 33 & 0.9428571 & 0.8957143 & Normal & 205 & 0 & 0\\\\\n",
       "\t 01-701-1028 & 601 & CDISCPILOT01 & 701 & Y & Xanomeline High Dose & 81 & 2014-01-06 & 2014-01-06 10:00:00 & 172 & ⋯ & Y & R2A1HI>1.5 & N & 33 & 0.9428571 & 0.8957143 & Normal & 205 & 0 & 0\\\\\n",
       "\t 01-701-1028 &   7 & CDISCPILOT01 & 701 & Y & Xanomeline High Dose & 81 & 2013-08-29 & 2013-08-29 11:54:00 &  42 & ⋯ &   & R2A1HI>1.5 & N & 33 & 0.9428571 & 0.8957143 & Normal & 205 & 0 & 0\\\\\n",
       "\t 01-701-1028 &   8 & CDISCPILOT01 & 701 & Y & Xanomeline High Dose & 81 & 2013-09-10 & 2013-09-10 09:13:00 &  54 & ⋯ &   & R2A1HI>1.5 & N & 33 & 0.9428571 & 0.8957143 & Normal & 205 & 0 & 0\\\\\n",
       "\t 01-701-1028 &   9 & CDISCPILOT01 & 701 & Y & Xanomeline High Dose & 81 & 2013-10-09 & 2013-10-09 08:42:00 &  83 & ⋯ &   & R2A1HI>1.5 & N & 33 & 0.9428571 & 0.8957143 & Normal & 205 & 0 & 0\\\\\n",
       "\t 01-701-1033 &   3 & CDISCPILOT01 & 701 & Y & Xanomeline Low Dose  & 54 & 2014-03-10 & 2014-03-10 12:31:00 &  -8 & ⋯ &   & R2A1HI>1.5 & N & 35 & 1.0000000 & 0.7328571 &        &  45 & 1 & 0\\\\\n",
       "\t 01-701-1033 &   4 & CDISCPILOT01 & 701 & Y & Xanomeline Low Dose  & 54 & 2014-04-01 & 2014-04-01 08:55:00 &  15 & ⋯ &   & R2A1HI>1.5 & N & 35 & 1.0000000 & 0.7328571 &        &  45 & 1 & 0\\\\\n",
       "\t 01-701-1033 &   5 & CDISCPILOT01 & 701 & Y & Xanomeline Low Dose  & 54 & 2014-04-14 & 2014-04-14 10:38:00 &  28 & ⋯ & Y & R2A1HI>1.5 & N & 35 & 1.0000000 & 0.7328571 &        &  45 & 1 & 0\\\\\n",
       "\t 01-701-1033 & 601 & CDISCPILOT01 & 701 & Y & Xanomeline Low Dose  & 54 & 2014-04-14 & 2014-04-14 10:38:00 &  28 & ⋯ & Y & R2A1HI>1.5 & N & 35 & 1.0000000 & 0.7328571 &        &  45 & 1 & 0\\\\\n",
       "\t ⋮ & ⋮ & ⋮ & ⋮ & ⋮ & ⋮ & ⋮ & ⋮ & ⋮ & ⋮ & ⋱ & ⋮ & ⋮ & ⋮ & ⋮ & ⋮ & ⋮ & ⋮ & ⋮ & ⋮ & ⋮\\\\\n",
       "\t 01-718-1328 &   4 & CDISCPILOT01 & 718 & Y & Xanomeline High Dose & 81 & 2013-02-14 & 2013-02-14 12:50:00 &  14 & ⋯ &   & R2A1HI>1.5 & N & 28 & 0.8000000 & 0.6514286 & Normal & 205 & 0 & 0\\\\\n",
       "\t 01-718-1328 &   5 & CDISCPILOT01 & 718 & Y & Xanomeline High Dose & 81 & 2013-03-07 & 2013-03-07 10:15:00 &  35 & ⋯ &   & R2A1HI>1.5 & N & 28 & 0.8000000 & 0.6514286 & Normal & 205 & 0 & 0\\\\\n",
       "\t 01-718-1328 & 601 & CDISCPILOT01 & 718 & Y & Xanomeline High Dose & 81 & 2013-05-01 & 2013-05-01 15:15:00 &  90 & ⋯ & Y & R2A1HI>1.5 & N & 28 & 0.8000000 & 0.6514286 & Normal & 205 & 0 & 0\\\\\n",
       "\t 01-718-1328 &   7 & CDISCPILOT01 & 718 & Y & Xanomeline High Dose & 81 & 2013-03-20 & 2013-03-20 09:20:00 &  48 & ⋯ &   & R2A1HI>1.5 & N & 28 & 0.8000000 & 0.6514286 & Normal & 205 & 0 & 0\\\\\n",
       "\t 01-718-1328 &   8 & CDISCPILOT01 & 718 & Y & Xanomeline High Dose & 81 & 2013-04-04 & 2013-04-04 10:45:00 &  63 & ⋯ &   & R2A1HI>1.5 & N & 28 & 0.8000000 & 0.6514286 & Normal & 205 & 0 & 0\\\\\n",
       "\t 01-718-1328 &   9 & CDISCPILOT01 & 718 & Y & Xanomeline High Dose & 81 & 2013-05-01 & 2013-05-01 15:15:00 &  90 & ⋯ & Y & R2A1HI>1.5 & N & 28 & 0.8000000 & 0.6514286 & Normal & 205 & 0 & 0\\\\\n",
       "\t 01-718-1355 &  10 & CDISCPILOT01 & 718 & Y & Placebo              &  0 & 2013-06-20 & 2013-06-20 14:30:00 & 113 & ⋯ &   & R2A1HI>1.5 & N & 13 & 0.3714286 & 0.7328571 & Normal & 205 & 0 & 0\\\\\n",
       "\t 01-718-1355 &  11 & CDISCPILOT01 & 718 & Y & Placebo              &  0 & 2013-07-18 & 2013-07-18 13:25:00 & 141 & ⋯ &   & R2A1HI>1.5 & N & 13 & 0.3714286 & 0.7328571 & Normal & 205 & 0 & 0\\\\\n",
       "\t 01-718-1355 &  12 & CDISCPILOT01 & 718 & Y & Placebo              &  0 & 2013-08-15 & 2013-08-15 15:45:00 & 169 & ⋯ & Y & R2A1HI>1.5 & N & 13 & 0.3714286 & 0.7328571 & Normal & 205 & 0 & 0\\\\\n",
       "\t 01-718-1355 &  13 & CDISCPILOT01 & 718 & Y & Placebo              &  0 & 2013-08-29 & 2013-08-29 14:00:00 & 183 & ⋯ &   & R2A1HI>1.5 & N & 13 & 0.3714286 & 0.7328571 & Normal & 205 & 0 & 0\\\\\n",
       "\t 01-718-1355 &   3 & CDISCPILOT01 & 718 & Y & Placebo              &  0 & 2013-02-12 & 2013-02-12 15:20:00 & -16 & ⋯ &   & R2A1HI>1.5 & N & 13 & 0.3714286 & 0.7328571 & Normal & 205 & 0 & 0\\\\\n",
       "\t 01-718-1355 &   4 & CDISCPILOT01 & 718 & Y & Placebo              &  0 & 2013-03-16 & 2013-03-16 13:00:00 &  17 & ⋯ &   & R2A1HI>1.5 & N & 13 & 0.3714286 & 0.7328571 & Normal & 205 & 0 & 0\\\\\n",
       "\t 01-718-1355 &   5 & CDISCPILOT01 & 718 & Y & Placebo              &  0 & 2013-03-28 & 2013-03-28 15:30:00 &  29 & ⋯ &   & R2A1HI>1.5 & N & 13 & 0.3714286 & 0.7328571 & Normal & 205 & 0 & 0\\\\\n",
       "\t 01-718-1355 & 601 & CDISCPILOT01 & 718 & Y & Placebo              &  0 & 2013-08-15 & 2013-08-15 15:45:00 & 169 & ⋯ & Y & R2A1HI>1.5 & N & 13 & 0.3714286 & 0.7328571 & Normal & 205 & 0 & 0\\\\\n",
       "\t 01-718-1355 &   7 & CDISCPILOT01 & 718 & Y & Placebo              &  0 & 2013-04-13 & 2013-04-13 12:55:00 &  45 & ⋯ &   & R2A1HI>1.5 & N & 13 & 0.3714286 & 0.7328571 & Normal & 205 & 0 & 0\\\\\n",
       "\t 01-718-1355 &   8 & CDISCPILOT01 & 718 & Y & Placebo              &  0 & 2013-04-25 & 2013-04-25 15:40:00 &  57 & ⋯ &   & R2A1HI>1.5 & N & 13 & 0.3714286 & 0.7328571 & Normal & 205 & 0 & 0\\\\\n",
       "\t 01-718-1355 &   9 & CDISCPILOT01 & 718 & Y & Placebo              &  0 & 2013-05-23 & 2013-05-23 13:50:00 &  85 & ⋯ &   & R2A1HI>1.5 & N & 13 & 0.3714286 & 0.7328571 & Normal & 205 & 0 & 0\\\\\n",
       "\t 01-718-1371 &   3 & CDISCPILOT01 & 718 & Y & Xanomeline High Dose & 81 & 2013-04-11 & 2013-04-11 11:25:00 & -15 & ⋯ &   & R2A1HI>1.5 & N & 30 & 0.9375000 & 0.4071429 & Normal & 205 & 0 & 0\\\\\n",
       "\t 01-718-1371 &   4 & CDISCPILOT01 & 718 & Y & Xanomeline High Dose & 81 & 2013-05-08 & 2013-05-08 10:55:00 &  13 & ⋯ &   & R2A1HI>1.5 & N & 30 & 0.9375000 & 0.4071429 & Normal & 205 & 0 & 0\\\\\n",
       "\t 01-718-1371 &   5 & CDISCPILOT01 & 718 & Y & Xanomeline High Dose & 81 & 2013-05-24 & 2013-05-24 10:30:00 &  29 & ⋯ &   & R2A1HI>1.5 & N & 30 & 0.9375000 & 0.4071429 & Normal & 205 & 0 & 0\\\\\n",
       "\t 01-718-1371 & 601 & CDISCPILOT01 & 718 & Y & Xanomeline High Dose & 81 & 2013-08-01 & 2013-08-01 14:55:00 &  98 & ⋯ & Y & R2A1HI>1.5 & N & 30 & 0.9375000 & 0.4071429 & Normal & 205 & 0 & 0\\\\\n",
       "\t 01-718-1371 &   7 & CDISCPILOT01 & 718 & Y & Xanomeline High Dose & 81 & 2013-06-20 & 2013-06-20 10:45:00 &  56 & ⋯ &   & R2A1HI>1.5 & N & 30 & 0.9375000 & 0.4071429 & Normal & 205 & 0 & 0\\\\\n",
       "\t 01-718-1371 &   8 & CDISCPILOT01 & 718 & Y & Xanomeline High Dose & 81 & 2013-07-04 & 2013-07-04 12:30:00 &  70 & ⋯ &   & R2A1HI>1.5 & N & 30 & 0.9375000 & 0.4071429 & Normal & 205 & 0 & 0\\\\\n",
       "\t 01-718-1371 &   9 & CDISCPILOT01 & 718 & Y & Xanomeline High Dose & 81 & 2013-08-01 & 2013-08-01 14:55:00 &  98 & ⋯ & Y & R2A1HI>1.5 & N & 30 & 0.9375000 & 0.4071429 & Normal & 205 & 0 & 0\\\\\n",
       "\t 01-718-1427 &   3 & CDISCPILOT01 & 718 & Y & Xanomeline High Dose & 81 & 2012-12-09 & 2012-12-09 12:30:00 &  -8 & ⋯ &   & R2A1HI>1.5 & N & 16 & 0.5000000 & 0.4885714 & Normal & 205 & 0 & 0\\\\\n",
       "\t 01-718-1427 &   4 & CDISCPILOT01 & 718 & Y & Xanomeline High Dose & 81 & 2012-12-31 & 2012-12-31 10:45:00 &  15 & ⋯ &   & R2A1HI>1.5 & N & 16 & 0.5000000 & 0.4885714 & Normal & 205 & 0 & 0\\\\\n",
       "\t 01-718-1427 &   5 & CDISCPILOT01 & 718 & Y & Xanomeline High Dose & 81 & 2013-01-17 & 2013-01-17 08:50:00 &  32 & ⋯ &   & R2A1HI>1.5 & N & 16 & 0.5000000 & 0.4885714 & Normal & 205 & 0 & 0\\\\\n",
       "\t 01-718-1427 & 601 & CDISCPILOT01 & 718 & Y & Xanomeline High Dose & 81 & 2013-02-11 & 2013-02-11 12:40:00 &  57 & ⋯ & Y & R2A1HI>1.5 & N & 16 & 0.5000000 & 0.4885714 & Normal & 205 & 0 & 0\\\\\n",
       "\t 01-718-1427 &   7 & CDISCPILOT01 & 718 & Y & Xanomeline High Dose & 81 & 2013-01-28 & 2013-01-28 13:45:00 &  43 & ⋯ &   & R2A1HI>1.5 & N & 16 & 0.5000000 & 0.4885714 & Normal & 205 & 0 & 0\\\\\n",
       "\t 01-718-1427 &   8 & CDISCPILOT01 & 718 & Y & Xanomeline High Dose & 81 & 2013-02-11 & 2013-02-11 12:40:00 &  57 & ⋯ & Y & R2A1HI>1.5 & N & 16 & 0.5000000 & 0.4885714 & Normal & 205 & 0 & 0\\\\\n",
       "\\end{tabular}\n"
      ],
      "text/markdown": [
       "\n",
       "A data.frame: 2014 × 38\n",
       "\n",
       "| USUBJID &lt;chr&gt; | AVISITN &lt;dbl&gt; | STUDYID &lt;chr&gt; | SITEID &lt;chr&gt; | SAFFL &lt;chr&gt; | TRTA &lt;chr&gt; | TRTAN &lt;dbl&gt; | ADT &lt;date&gt; | ADTM &lt;dttm&gt; | ADY &lt;dbl&gt; | ⋯ ⋯ | LVOTFL &lt;chr&gt; | CRIT1 &lt;chr&gt; | CRIT1FL &lt;chr&gt; | max_aval &lt;dbl&gt; | max_ALT_ULN &lt;dbl&gt; | max_BILI_ULN &lt;dbl&gt; | status &lt;chr&gt; | n &lt;int&gt; | x_lab &lt;dbl&gt; | y_lab &lt;dbl&gt; |\n",
       "|---|---|---|---|---|---|---|---|---|---|---|---|---|---|---|---|---|---|---|---|---|\n",
       "| 01-701-1015 |  10 | CDISCPILOT01 | 701 | Y | Placebo              |  0 | 2014-05-07 | 2014-05-07 11:21:00 | 126 | ⋯ | <!----> | R2A1HI&gt;1.5 | N | 41 | 1.2058824 | 0.4885714 | <!----> |  45 | 1 | 0 |\n",
       "| 01-701-1015 |  11 | CDISCPILOT01 | 701 | Y | Placebo              |  0 | 2014-05-21 | 2014-05-21 10:58:00 | 140 | ⋯ | <!----> | R2A1HI&gt;1.5 | N | 41 | 1.2058824 | 0.4885714 | <!----> |  45 | 1 | 0 |\n",
       "| 01-701-1015 |  12 | CDISCPILOT01 | 701 | Y | Placebo              |  0 | 2014-06-18 | 2014-06-18 13:00:00 | 168 | ⋯ | Y | R2A1HI&gt;1.5 | N | 41 | 1.2058824 | 0.4885714 | <!----> |  45 | 1 | 0 |\n",
       "| 01-701-1015 |  13 | CDISCPILOT01 | 701 | Y | Placebo              |  0 | 2014-07-02 | 2014-07-02 11:45:00 | 182 | ⋯ | <!----> | R2A1HI&gt;1.5 | N | 41 | 1.2058824 | 0.4885714 | <!----> |  45 | 1 | 0 |\n",
       "| 01-701-1015 |   3 | CDISCPILOT01 | 701 | Y | Placebo              |  0 | 2013-12-26 | 2013-12-26 14:45:00 |  -7 | ⋯ | <!----> | R2A1HI&gt;1.5 | N | 41 | 1.2058824 | 0.4885714 | <!----> |  45 | 1 | 0 |\n",
       "| 01-701-1015 |   4 | CDISCPILOT01 | 701 | Y | Placebo              |  0 | 2014-01-16 | 2014-01-16 13:17:00 |  15 | ⋯ | <!----> | R2A1HI&gt;1.5 | N | 41 | 1.2058824 | 0.4885714 | <!----> |  45 | 1 | 0 |\n",
       "| 01-701-1015 |   5 | CDISCPILOT01 | 701 | Y | Placebo              |  0 | 2014-01-30 | 2014-01-30 08:50:00 |  29 | ⋯ | <!----> | R2A1HI&gt;1.5 | N | 41 | 1.2058824 | 0.4885714 | <!----> |  45 | 1 | 0 |\n",
       "| 01-701-1015 | 601 | CDISCPILOT01 | 701 | Y | Placebo              |  0 | 2014-06-18 | 2014-06-18 13:00:00 | 168 | ⋯ | Y | R2A1HI&gt;1.5 | N | 41 | 1.2058824 | 0.4885714 | <!----> |  45 | 1 | 0 |\n",
       "| 01-701-1015 |   7 | CDISCPILOT01 | 701 | Y | Placebo              |  0 | 2014-02-12 | 2014-02-12 12:56:00 |  42 | ⋯ | <!----> | R2A1HI&gt;1.5 | N | 41 | 1.2058824 | 0.4885714 | <!----> |  45 | 1 | 0 |\n",
       "| 01-701-1015 |   8 | CDISCPILOT01 | 701 | Y | Placebo              |  0 | 2014-03-05 | 2014-03-05 12:25:00 |  63 | ⋯ | <!----> | R2A1HI&gt;1.5 | N | 41 | 1.2058824 | 0.4885714 | <!----> |  45 | 1 | 0 |\n",
       "| 01-701-1015 |   9 | CDISCPILOT01 | 701 | Y | Placebo              |  0 | 2014-03-26 | 2014-03-26 15:15:00 |  84 | ⋯ | <!----> | R2A1HI&gt;1.5 | N | 41 | 1.2058824 | 0.4885714 | <!----> |  45 | 1 | 0 |\n",
       "| 01-701-1023 |   3 | CDISCPILOT01 | 701 | Y | Placebo              |  0 | 2012-07-22 | 2012-07-22 12:13:00 | -14 | ⋯ | <!----> | R2A1HI&gt;1.5 | N | 38 | 0.8837209 | 0.5700000 | Normal | 205 | 0 | 0 |\n",
       "| 01-701-1023 |   4 | CDISCPILOT01 | 701 | Y | Placebo              |  0 | 2012-08-27 | 2012-08-27 15:47:00 |  23 | ⋯ | <!----> | R2A1HI&gt;1.5 | N | 38 | 0.8837209 | 0.5700000 | Normal | 205 | 0 | 0 |\n",
       "| 01-701-1023 |   5 | CDISCPILOT01 | 701 | Y | Placebo              |  0 | 2012-09-02 | 2012-09-02 10:15:00 |  29 | ⋯ | Y | R2A1HI&gt;1.5 | N | 38 | 0.8837209 | 0.5700000 | Normal | 205 | 0 | 0 |\n",
       "| 01-701-1023 | 601 | CDISCPILOT01 | 701 | Y | Placebo              |  0 | 2012-09-02 | 2012-09-02 10:15:00 |  29 | ⋯ | Y | R2A1HI&gt;1.5 | N | 38 | 0.8837209 | 0.5700000 | Normal | 205 | 0 | 0 |\n",
       "| 01-701-1028 |  10 | CDISCPILOT01 | 701 | Y | Xanomeline High Dose | 81 | 2013-11-06 | 2013-11-06 10:08:00 | 111 | ⋯ | <!----> | R2A1HI&gt;1.5 | N | 33 | 0.9428571 | 0.8957143 | Normal | 205 | 0 | 0 |\n",
       "| 01-701-1028 |  11 | CDISCPILOT01 | 701 | Y | Xanomeline High Dose | 81 | 2013-12-04 | 2013-12-04 15:10:00 | 139 | ⋯ | <!----> | R2A1HI&gt;1.5 | N | 33 | 0.9428571 | 0.8957143 | Normal | 205 | 0 | 0 |\n",
       "| 01-701-1028 |  12 | CDISCPILOT01 | 701 | Y | Xanomeline High Dose | 81 | 2014-01-06 | 2014-01-06 10:00:00 | 172 | ⋯ | Y | R2A1HI&gt;1.5 | N | 33 | 0.9428571 | 0.8957143 | Normal | 205 | 0 | 0 |\n",
       "| 01-701-1028 |  13 | CDISCPILOT01 | 701 | Y | Xanomeline High Dose | 81 | 2014-01-14 | 2014-01-14 11:10:00 | 180 | ⋯ | <!----> | R2A1HI&gt;1.5 | N | 33 | 0.9428571 | 0.8957143 | Normal | 205 | 0 | 0 |\n",
       "| 01-701-1028 |   3 | CDISCPILOT01 | 701 | Y | Xanomeline High Dose | 81 | 2013-07-11 | 2013-07-11 12:02:00 |  -8 | ⋯ | <!----> | R2A1HI&gt;1.5 | N | 33 | 0.9428571 | 0.8957143 | Normal | 205 | 0 | 0 |\n",
       "| 01-701-1028 |   4 | CDISCPILOT01 | 701 | Y | Xanomeline High Dose | 81 | 2013-08-01 | 2013-08-01 09:15:00 |  14 | ⋯ | <!----> | R2A1HI&gt;1.5 | N | 33 | 0.9428571 | 0.8957143 | Normal | 205 | 0 | 0 |\n",
       "| 01-701-1028 |   5 | CDISCPILOT01 | 701 | Y | Xanomeline High Dose | 81 | 2013-08-14 | 2013-08-14 13:24:00 |  27 | ⋯ | <!----> | R2A1HI&gt;1.5 | N | 33 | 0.9428571 | 0.8957143 | Normal | 205 | 0 | 0 |\n",
       "| 01-701-1028 | 601 | CDISCPILOT01 | 701 | Y | Xanomeline High Dose | 81 | 2014-01-06 | 2014-01-06 10:00:00 | 172 | ⋯ | Y | R2A1HI&gt;1.5 | N | 33 | 0.9428571 | 0.8957143 | Normal | 205 | 0 | 0 |\n",
       "| 01-701-1028 |   7 | CDISCPILOT01 | 701 | Y | Xanomeline High Dose | 81 | 2013-08-29 | 2013-08-29 11:54:00 |  42 | ⋯ | <!----> | R2A1HI&gt;1.5 | N | 33 | 0.9428571 | 0.8957143 | Normal | 205 | 0 | 0 |\n",
       "| 01-701-1028 |   8 | CDISCPILOT01 | 701 | Y | Xanomeline High Dose | 81 | 2013-09-10 | 2013-09-10 09:13:00 |  54 | ⋯ | <!----> | R2A1HI&gt;1.5 | N | 33 | 0.9428571 | 0.8957143 | Normal | 205 | 0 | 0 |\n",
       "| 01-701-1028 |   9 | CDISCPILOT01 | 701 | Y | Xanomeline High Dose | 81 | 2013-10-09 | 2013-10-09 08:42:00 |  83 | ⋯ | <!----> | R2A1HI&gt;1.5 | N | 33 | 0.9428571 | 0.8957143 | Normal | 205 | 0 | 0 |\n",
       "| 01-701-1033 |   3 | CDISCPILOT01 | 701 | Y | Xanomeline Low Dose  | 54 | 2014-03-10 | 2014-03-10 12:31:00 |  -8 | ⋯ | <!----> | R2A1HI&gt;1.5 | N | 35 | 1.0000000 | 0.7328571 | <!----> |  45 | 1 | 0 |\n",
       "| 01-701-1033 |   4 | CDISCPILOT01 | 701 | Y | Xanomeline Low Dose  | 54 | 2014-04-01 | 2014-04-01 08:55:00 |  15 | ⋯ | <!----> | R2A1HI&gt;1.5 | N | 35 | 1.0000000 | 0.7328571 | <!----> |  45 | 1 | 0 |\n",
       "| 01-701-1033 |   5 | CDISCPILOT01 | 701 | Y | Xanomeline Low Dose  | 54 | 2014-04-14 | 2014-04-14 10:38:00 |  28 | ⋯ | Y | R2A1HI&gt;1.5 | N | 35 | 1.0000000 | 0.7328571 | <!----> |  45 | 1 | 0 |\n",
       "| 01-701-1033 | 601 | CDISCPILOT01 | 701 | Y | Xanomeline Low Dose  | 54 | 2014-04-14 | 2014-04-14 10:38:00 |  28 | ⋯ | Y | R2A1HI&gt;1.5 | N | 35 | 1.0000000 | 0.7328571 | <!----> |  45 | 1 | 0 |\n",
       "| ⋮ | ⋮ | ⋮ | ⋮ | ⋮ | ⋮ | ⋮ | ⋮ | ⋮ | ⋮ | ⋱ | ⋮ | ⋮ | ⋮ | ⋮ | ⋮ | ⋮ | ⋮ | ⋮ | ⋮ | ⋮ |\n",
       "| 01-718-1328 |   4 | CDISCPILOT01 | 718 | Y | Xanomeline High Dose | 81 | 2013-02-14 | 2013-02-14 12:50:00 |  14 | ⋯ | <!----> | R2A1HI&gt;1.5 | N | 28 | 0.8000000 | 0.6514286 | Normal | 205 | 0 | 0 |\n",
       "| 01-718-1328 |   5 | CDISCPILOT01 | 718 | Y | Xanomeline High Dose | 81 | 2013-03-07 | 2013-03-07 10:15:00 |  35 | ⋯ | <!----> | R2A1HI&gt;1.5 | N | 28 | 0.8000000 | 0.6514286 | Normal | 205 | 0 | 0 |\n",
       "| 01-718-1328 | 601 | CDISCPILOT01 | 718 | Y | Xanomeline High Dose | 81 | 2013-05-01 | 2013-05-01 15:15:00 |  90 | ⋯ | Y | R2A1HI&gt;1.5 | N | 28 | 0.8000000 | 0.6514286 | Normal | 205 | 0 | 0 |\n",
       "| 01-718-1328 |   7 | CDISCPILOT01 | 718 | Y | Xanomeline High Dose | 81 | 2013-03-20 | 2013-03-20 09:20:00 |  48 | ⋯ | <!----> | R2A1HI&gt;1.5 | N | 28 | 0.8000000 | 0.6514286 | Normal | 205 | 0 | 0 |\n",
       "| 01-718-1328 |   8 | CDISCPILOT01 | 718 | Y | Xanomeline High Dose | 81 | 2013-04-04 | 2013-04-04 10:45:00 |  63 | ⋯ | <!----> | R2A1HI&gt;1.5 | N | 28 | 0.8000000 | 0.6514286 | Normal | 205 | 0 | 0 |\n",
       "| 01-718-1328 |   9 | CDISCPILOT01 | 718 | Y | Xanomeline High Dose | 81 | 2013-05-01 | 2013-05-01 15:15:00 |  90 | ⋯ | Y | R2A1HI&gt;1.5 | N | 28 | 0.8000000 | 0.6514286 | Normal | 205 | 0 | 0 |\n",
       "| 01-718-1355 |  10 | CDISCPILOT01 | 718 | Y | Placebo              |  0 | 2013-06-20 | 2013-06-20 14:30:00 | 113 | ⋯ | <!----> | R2A1HI&gt;1.5 | N | 13 | 0.3714286 | 0.7328571 | Normal | 205 | 0 | 0 |\n",
       "| 01-718-1355 |  11 | CDISCPILOT01 | 718 | Y | Placebo              |  0 | 2013-07-18 | 2013-07-18 13:25:00 | 141 | ⋯ | <!----> | R2A1HI&gt;1.5 | N | 13 | 0.3714286 | 0.7328571 | Normal | 205 | 0 | 0 |\n",
       "| 01-718-1355 |  12 | CDISCPILOT01 | 718 | Y | Placebo              |  0 | 2013-08-15 | 2013-08-15 15:45:00 | 169 | ⋯ | Y | R2A1HI&gt;1.5 | N | 13 | 0.3714286 | 0.7328571 | Normal | 205 | 0 | 0 |\n",
       "| 01-718-1355 |  13 | CDISCPILOT01 | 718 | Y | Placebo              |  0 | 2013-08-29 | 2013-08-29 14:00:00 | 183 | ⋯ | <!----> | R2A1HI&gt;1.5 | N | 13 | 0.3714286 | 0.7328571 | Normal | 205 | 0 | 0 |\n",
       "| 01-718-1355 |   3 | CDISCPILOT01 | 718 | Y | Placebo              |  0 | 2013-02-12 | 2013-02-12 15:20:00 | -16 | ⋯ | <!----> | R2A1HI&gt;1.5 | N | 13 | 0.3714286 | 0.7328571 | Normal | 205 | 0 | 0 |\n",
       "| 01-718-1355 |   4 | CDISCPILOT01 | 718 | Y | Placebo              |  0 | 2013-03-16 | 2013-03-16 13:00:00 |  17 | ⋯ | <!----> | R2A1HI&gt;1.5 | N | 13 | 0.3714286 | 0.7328571 | Normal | 205 | 0 | 0 |\n",
       "| 01-718-1355 |   5 | CDISCPILOT01 | 718 | Y | Placebo              |  0 | 2013-03-28 | 2013-03-28 15:30:00 |  29 | ⋯ | <!----> | R2A1HI&gt;1.5 | N | 13 | 0.3714286 | 0.7328571 | Normal | 205 | 0 | 0 |\n",
       "| 01-718-1355 | 601 | CDISCPILOT01 | 718 | Y | Placebo              |  0 | 2013-08-15 | 2013-08-15 15:45:00 | 169 | ⋯ | Y | R2A1HI&gt;1.5 | N | 13 | 0.3714286 | 0.7328571 | Normal | 205 | 0 | 0 |\n",
       "| 01-718-1355 |   7 | CDISCPILOT01 | 718 | Y | Placebo              |  0 | 2013-04-13 | 2013-04-13 12:55:00 |  45 | ⋯ | <!----> | R2A1HI&gt;1.5 | N | 13 | 0.3714286 | 0.7328571 | Normal | 205 | 0 | 0 |\n",
       "| 01-718-1355 |   8 | CDISCPILOT01 | 718 | Y | Placebo              |  0 | 2013-04-25 | 2013-04-25 15:40:00 |  57 | ⋯ | <!----> | R2A1HI&gt;1.5 | N | 13 | 0.3714286 | 0.7328571 | Normal | 205 | 0 | 0 |\n",
       "| 01-718-1355 |   9 | CDISCPILOT01 | 718 | Y | Placebo              |  0 | 2013-05-23 | 2013-05-23 13:50:00 |  85 | ⋯ | <!----> | R2A1HI&gt;1.5 | N | 13 | 0.3714286 | 0.7328571 | Normal | 205 | 0 | 0 |\n",
       "| 01-718-1371 |   3 | CDISCPILOT01 | 718 | Y | Xanomeline High Dose | 81 | 2013-04-11 | 2013-04-11 11:25:00 | -15 | ⋯ | <!----> | R2A1HI&gt;1.5 | N | 30 | 0.9375000 | 0.4071429 | Normal | 205 | 0 | 0 |\n",
       "| 01-718-1371 |   4 | CDISCPILOT01 | 718 | Y | Xanomeline High Dose | 81 | 2013-05-08 | 2013-05-08 10:55:00 |  13 | ⋯ | <!----> | R2A1HI&gt;1.5 | N | 30 | 0.9375000 | 0.4071429 | Normal | 205 | 0 | 0 |\n",
       "| 01-718-1371 |   5 | CDISCPILOT01 | 718 | Y | Xanomeline High Dose | 81 | 2013-05-24 | 2013-05-24 10:30:00 |  29 | ⋯ | <!----> | R2A1HI&gt;1.5 | N | 30 | 0.9375000 | 0.4071429 | Normal | 205 | 0 | 0 |\n",
       "| 01-718-1371 | 601 | CDISCPILOT01 | 718 | Y | Xanomeline High Dose | 81 | 2013-08-01 | 2013-08-01 14:55:00 |  98 | ⋯ | Y | R2A1HI&gt;1.5 | N | 30 | 0.9375000 | 0.4071429 | Normal | 205 | 0 | 0 |\n",
       "| 01-718-1371 |   7 | CDISCPILOT01 | 718 | Y | Xanomeline High Dose | 81 | 2013-06-20 | 2013-06-20 10:45:00 |  56 | ⋯ | <!----> | R2A1HI&gt;1.5 | N | 30 | 0.9375000 | 0.4071429 | Normal | 205 | 0 | 0 |\n",
       "| 01-718-1371 |   8 | CDISCPILOT01 | 718 | Y | Xanomeline High Dose | 81 | 2013-07-04 | 2013-07-04 12:30:00 |  70 | ⋯ | <!----> | R2A1HI&gt;1.5 | N | 30 | 0.9375000 | 0.4071429 | Normal | 205 | 0 | 0 |\n",
       "| 01-718-1371 |   9 | CDISCPILOT01 | 718 | Y | Xanomeline High Dose | 81 | 2013-08-01 | 2013-08-01 14:55:00 |  98 | ⋯ | Y | R2A1HI&gt;1.5 | N | 30 | 0.9375000 | 0.4071429 | Normal | 205 | 0 | 0 |\n",
       "| 01-718-1427 |   3 | CDISCPILOT01 | 718 | Y | Xanomeline High Dose | 81 | 2012-12-09 | 2012-12-09 12:30:00 |  -8 | ⋯ | <!----> | R2A1HI&gt;1.5 | N | 16 | 0.5000000 | 0.4885714 | Normal | 205 | 0 | 0 |\n",
       "| 01-718-1427 |   4 | CDISCPILOT01 | 718 | Y | Xanomeline High Dose | 81 | 2012-12-31 | 2012-12-31 10:45:00 |  15 | ⋯ | <!----> | R2A1HI&gt;1.5 | N | 16 | 0.5000000 | 0.4885714 | Normal | 205 | 0 | 0 |\n",
       "| 01-718-1427 |   5 | CDISCPILOT01 | 718 | Y | Xanomeline High Dose | 81 | 2013-01-17 | 2013-01-17 08:50:00 |  32 | ⋯ | <!----> | R2A1HI&gt;1.5 | N | 16 | 0.5000000 | 0.4885714 | Normal | 205 | 0 | 0 |\n",
       "| 01-718-1427 | 601 | CDISCPILOT01 | 718 | Y | Xanomeline High Dose | 81 | 2013-02-11 | 2013-02-11 12:40:00 |  57 | ⋯ | Y | R2A1HI&gt;1.5 | N | 16 | 0.5000000 | 0.4885714 | Normal | 205 | 0 | 0 |\n",
       "| 01-718-1427 |   7 | CDISCPILOT01 | 718 | Y | Xanomeline High Dose | 81 | 2013-01-28 | 2013-01-28 13:45:00 |  43 | ⋯ | <!----> | R2A1HI&gt;1.5 | N | 16 | 0.5000000 | 0.4885714 | Normal | 205 | 0 | 0 |\n",
       "| 01-718-1427 |   8 | CDISCPILOT01 | 718 | Y | Xanomeline High Dose | 81 | 2013-02-11 | 2013-02-11 12:40:00 |  57 | ⋯ | Y | R2A1HI&gt;1.5 | N | 16 | 0.5000000 | 0.4885714 | Normal | 205 | 0 | 0 |\n",
       "\n"
      ],
      "text/plain": [
       "     USUBJID     AVISITN STUDYID      SITEID SAFFL TRTA                 TRTAN\n",
       "1    01-701-1015  10     CDISCPILOT01 701    Y     Placebo               0   \n",
       "2    01-701-1015  11     CDISCPILOT01 701    Y     Placebo               0   \n",
       "3    01-701-1015  12     CDISCPILOT01 701    Y     Placebo               0   \n",
       "4    01-701-1015  13     CDISCPILOT01 701    Y     Placebo               0   \n",
       "5    01-701-1015   3     CDISCPILOT01 701    Y     Placebo               0   \n",
       "6    01-701-1015   4     CDISCPILOT01 701    Y     Placebo               0   \n",
       "7    01-701-1015   5     CDISCPILOT01 701    Y     Placebo               0   \n",
       "8    01-701-1015 601     CDISCPILOT01 701    Y     Placebo               0   \n",
       "9    01-701-1015   7     CDISCPILOT01 701    Y     Placebo               0   \n",
       "10   01-701-1015   8     CDISCPILOT01 701    Y     Placebo               0   \n",
       "11   01-701-1015   9     CDISCPILOT01 701    Y     Placebo               0   \n",
       "12   01-701-1023   3     CDISCPILOT01 701    Y     Placebo               0   \n",
       "13   01-701-1023   4     CDISCPILOT01 701    Y     Placebo               0   \n",
       "14   01-701-1023   5     CDISCPILOT01 701    Y     Placebo               0   \n",
       "15   01-701-1023 601     CDISCPILOT01 701    Y     Placebo               0   \n",
       "16   01-701-1028  10     CDISCPILOT01 701    Y     Xanomeline High Dose 81   \n",
       "17   01-701-1028  11     CDISCPILOT01 701    Y     Xanomeline High Dose 81   \n",
       "18   01-701-1028  12     CDISCPILOT01 701    Y     Xanomeline High Dose 81   \n",
       "19   01-701-1028  13     CDISCPILOT01 701    Y     Xanomeline High Dose 81   \n",
       "20   01-701-1028   3     CDISCPILOT01 701    Y     Xanomeline High Dose 81   \n",
       "21   01-701-1028   4     CDISCPILOT01 701    Y     Xanomeline High Dose 81   \n",
       "22   01-701-1028   5     CDISCPILOT01 701    Y     Xanomeline High Dose 81   \n",
       "23   01-701-1028 601     CDISCPILOT01 701    Y     Xanomeline High Dose 81   \n",
       "24   01-701-1028   7     CDISCPILOT01 701    Y     Xanomeline High Dose 81   \n",
       "25   01-701-1028   8     CDISCPILOT01 701    Y     Xanomeline High Dose 81   \n",
       "26   01-701-1028   9     CDISCPILOT01 701    Y     Xanomeline High Dose 81   \n",
       "27   01-701-1033   3     CDISCPILOT01 701    Y     Xanomeline Low Dose  54   \n",
       "28   01-701-1033   4     CDISCPILOT01 701    Y     Xanomeline Low Dose  54   \n",
       "29   01-701-1033   5     CDISCPILOT01 701    Y     Xanomeline Low Dose  54   \n",
       "30   01-701-1033 601     CDISCPILOT01 701    Y     Xanomeline Low Dose  54   \n",
       "⋮    ⋮           ⋮       ⋮            ⋮      ⋮     ⋮                    ⋮    \n",
       "1985 01-718-1328   4     CDISCPILOT01 718    Y     Xanomeline High Dose 81   \n",
       "1986 01-718-1328   5     CDISCPILOT01 718    Y     Xanomeline High Dose 81   \n",
       "1987 01-718-1328 601     CDISCPILOT01 718    Y     Xanomeline High Dose 81   \n",
       "1988 01-718-1328   7     CDISCPILOT01 718    Y     Xanomeline High Dose 81   \n",
       "1989 01-718-1328   8     CDISCPILOT01 718    Y     Xanomeline High Dose 81   \n",
       "1990 01-718-1328   9     CDISCPILOT01 718    Y     Xanomeline High Dose 81   \n",
       "1991 01-718-1355  10     CDISCPILOT01 718    Y     Placebo               0   \n",
       "1992 01-718-1355  11     CDISCPILOT01 718    Y     Placebo               0   \n",
       "1993 01-718-1355  12     CDISCPILOT01 718    Y     Placebo               0   \n",
       "1994 01-718-1355  13     CDISCPILOT01 718    Y     Placebo               0   \n",
       "1995 01-718-1355   3     CDISCPILOT01 718    Y     Placebo               0   \n",
       "1996 01-718-1355   4     CDISCPILOT01 718    Y     Placebo               0   \n",
       "1997 01-718-1355   5     CDISCPILOT01 718    Y     Placebo               0   \n",
       "1998 01-718-1355 601     CDISCPILOT01 718    Y     Placebo               0   \n",
       "1999 01-718-1355   7     CDISCPILOT01 718    Y     Placebo               0   \n",
       "2000 01-718-1355   8     CDISCPILOT01 718    Y     Placebo               0   \n",
       "2001 01-718-1355   9     CDISCPILOT01 718    Y     Placebo               0   \n",
       "2002 01-718-1371   3     CDISCPILOT01 718    Y     Xanomeline High Dose 81   \n",
       "2003 01-718-1371   4     CDISCPILOT01 718    Y     Xanomeline High Dose 81   \n",
       "2004 01-718-1371   5     CDISCPILOT01 718    Y     Xanomeline High Dose 81   \n",
       "2005 01-718-1371 601     CDISCPILOT01 718    Y     Xanomeline High Dose 81   \n",
       "2006 01-718-1371   7     CDISCPILOT01 718    Y     Xanomeline High Dose 81   \n",
       "2007 01-718-1371   8     CDISCPILOT01 718    Y     Xanomeline High Dose 81   \n",
       "2008 01-718-1371   9     CDISCPILOT01 718    Y     Xanomeline High Dose 81   \n",
       "2009 01-718-1427   3     CDISCPILOT01 718    Y     Xanomeline High Dose 81   \n",
       "2010 01-718-1427   4     CDISCPILOT01 718    Y     Xanomeline High Dose 81   \n",
       "2011 01-718-1427   5     CDISCPILOT01 718    Y     Xanomeline High Dose 81   \n",
       "2012 01-718-1427 601     CDISCPILOT01 718    Y     Xanomeline High Dose 81   \n",
       "2013 01-718-1427   7     CDISCPILOT01 718    Y     Xanomeline High Dose 81   \n",
       "2014 01-718-1427   8     CDISCPILOT01 718    Y     Xanomeline High Dose 81   \n",
       "     ADT        ADTM                ADY ⋯ LVOTFL CRIT1      CRIT1FL max_aval\n",
       "1    2014-05-07 2014-05-07 11:21:00 126 ⋯        R2A1HI>1.5 N       41      \n",
       "2    2014-05-21 2014-05-21 10:58:00 140 ⋯        R2A1HI>1.5 N       41      \n",
       "3    2014-06-18 2014-06-18 13:00:00 168 ⋯ Y      R2A1HI>1.5 N       41      \n",
       "4    2014-07-02 2014-07-02 11:45:00 182 ⋯        R2A1HI>1.5 N       41      \n",
       "5    2013-12-26 2013-12-26 14:45:00  -7 ⋯        R2A1HI>1.5 N       41      \n",
       "6    2014-01-16 2014-01-16 13:17:00  15 ⋯        R2A1HI>1.5 N       41      \n",
       "7    2014-01-30 2014-01-30 08:50:00  29 ⋯        R2A1HI>1.5 N       41      \n",
       "8    2014-06-18 2014-06-18 13:00:00 168 ⋯ Y      R2A1HI>1.5 N       41      \n",
       "9    2014-02-12 2014-02-12 12:56:00  42 ⋯        R2A1HI>1.5 N       41      \n",
       "10   2014-03-05 2014-03-05 12:25:00  63 ⋯        R2A1HI>1.5 N       41      \n",
       "11   2014-03-26 2014-03-26 15:15:00  84 ⋯        R2A1HI>1.5 N       41      \n",
       "12   2012-07-22 2012-07-22 12:13:00 -14 ⋯        R2A1HI>1.5 N       38      \n",
       "13   2012-08-27 2012-08-27 15:47:00  23 ⋯        R2A1HI>1.5 N       38      \n",
       "14   2012-09-02 2012-09-02 10:15:00  29 ⋯ Y      R2A1HI>1.5 N       38      \n",
       "15   2012-09-02 2012-09-02 10:15:00  29 ⋯ Y      R2A1HI>1.5 N       38      \n",
       "16   2013-11-06 2013-11-06 10:08:00 111 ⋯        R2A1HI>1.5 N       33      \n",
       "17   2013-12-04 2013-12-04 15:10:00 139 ⋯        R2A1HI>1.5 N       33      \n",
       "18   2014-01-06 2014-01-06 10:00:00 172 ⋯ Y      R2A1HI>1.5 N       33      \n",
       "19   2014-01-14 2014-01-14 11:10:00 180 ⋯        R2A1HI>1.5 N       33      \n",
       "20   2013-07-11 2013-07-11 12:02:00  -8 ⋯        R2A1HI>1.5 N       33      \n",
       "21   2013-08-01 2013-08-01 09:15:00  14 ⋯        R2A1HI>1.5 N       33      \n",
       "22   2013-08-14 2013-08-14 13:24:00  27 ⋯        R2A1HI>1.5 N       33      \n",
       "23   2014-01-06 2014-01-06 10:00:00 172 ⋯ Y      R2A1HI>1.5 N       33      \n",
       "24   2013-08-29 2013-08-29 11:54:00  42 ⋯        R2A1HI>1.5 N       33      \n",
       "25   2013-09-10 2013-09-10 09:13:00  54 ⋯        R2A1HI>1.5 N       33      \n",
       "26   2013-10-09 2013-10-09 08:42:00  83 ⋯        R2A1HI>1.5 N       33      \n",
       "27   2014-03-10 2014-03-10 12:31:00  -8 ⋯        R2A1HI>1.5 N       35      \n",
       "28   2014-04-01 2014-04-01 08:55:00  15 ⋯        R2A1HI>1.5 N       35      \n",
       "29   2014-04-14 2014-04-14 10:38:00  28 ⋯ Y      R2A1HI>1.5 N       35      \n",
       "30   2014-04-14 2014-04-14 10:38:00  28 ⋯ Y      R2A1HI>1.5 N       35      \n",
       "⋮    ⋮          ⋮                   ⋮   ⋱ ⋮      ⋮          ⋮       ⋮       \n",
       "1985 2013-02-14 2013-02-14 12:50:00  14 ⋯        R2A1HI>1.5 N       28      \n",
       "1986 2013-03-07 2013-03-07 10:15:00  35 ⋯        R2A1HI>1.5 N       28      \n",
       "1987 2013-05-01 2013-05-01 15:15:00  90 ⋯ Y      R2A1HI>1.5 N       28      \n",
       "1988 2013-03-20 2013-03-20 09:20:00  48 ⋯        R2A1HI>1.5 N       28      \n",
       "1989 2013-04-04 2013-04-04 10:45:00  63 ⋯        R2A1HI>1.5 N       28      \n",
       "1990 2013-05-01 2013-05-01 15:15:00  90 ⋯ Y      R2A1HI>1.5 N       28      \n",
       "1991 2013-06-20 2013-06-20 14:30:00 113 ⋯        R2A1HI>1.5 N       13      \n",
       "1992 2013-07-18 2013-07-18 13:25:00 141 ⋯        R2A1HI>1.5 N       13      \n",
       "1993 2013-08-15 2013-08-15 15:45:00 169 ⋯ Y      R2A1HI>1.5 N       13      \n",
       "1994 2013-08-29 2013-08-29 14:00:00 183 ⋯        R2A1HI>1.5 N       13      \n",
       "1995 2013-02-12 2013-02-12 15:20:00 -16 ⋯        R2A1HI>1.5 N       13      \n",
       "1996 2013-03-16 2013-03-16 13:00:00  17 ⋯        R2A1HI>1.5 N       13      \n",
       "1997 2013-03-28 2013-03-28 15:30:00  29 ⋯        R2A1HI>1.5 N       13      \n",
       "1998 2013-08-15 2013-08-15 15:45:00 169 ⋯ Y      R2A1HI>1.5 N       13      \n",
       "1999 2013-04-13 2013-04-13 12:55:00  45 ⋯        R2A1HI>1.5 N       13      \n",
       "2000 2013-04-25 2013-04-25 15:40:00  57 ⋯        R2A1HI>1.5 N       13      \n",
       "2001 2013-05-23 2013-05-23 13:50:00  85 ⋯        R2A1HI>1.5 N       13      \n",
       "2002 2013-04-11 2013-04-11 11:25:00 -15 ⋯        R2A1HI>1.5 N       30      \n",
       "2003 2013-05-08 2013-05-08 10:55:00  13 ⋯        R2A1HI>1.5 N       30      \n",
       "2004 2013-05-24 2013-05-24 10:30:00  29 ⋯        R2A1HI>1.5 N       30      \n",
       "2005 2013-08-01 2013-08-01 14:55:00  98 ⋯ Y      R2A1HI>1.5 N       30      \n",
       "2006 2013-06-20 2013-06-20 10:45:00  56 ⋯        R2A1HI>1.5 N       30      \n",
       "2007 2013-07-04 2013-07-04 12:30:00  70 ⋯        R2A1HI>1.5 N       30      \n",
       "2008 2013-08-01 2013-08-01 14:55:00  98 ⋯ Y      R2A1HI>1.5 N       30      \n",
       "2009 2012-12-09 2012-12-09 12:30:00  -8 ⋯        R2A1HI>1.5 N       16      \n",
       "2010 2012-12-31 2012-12-31 10:45:00  15 ⋯        R2A1HI>1.5 N       16      \n",
       "2011 2013-01-17 2013-01-17 08:50:00  32 ⋯        R2A1HI>1.5 N       16      \n",
       "2012 2013-02-11 2013-02-11 12:40:00  57 ⋯ Y      R2A1HI>1.5 N       16      \n",
       "2013 2013-01-28 2013-01-28 13:45:00  43 ⋯        R2A1HI>1.5 N       16      \n",
       "2014 2013-02-11 2013-02-11 12:40:00  57 ⋯ Y      R2A1HI>1.5 N       16      \n",
       "     max_ALT_ULN max_BILI_ULN status n   x_lab y_lab\n",
       "1    1.2058824   0.4885714            45 1     0    \n",
       "2    1.2058824   0.4885714            45 1     0    \n",
       "3    1.2058824   0.4885714            45 1     0    \n",
       "4    1.2058824   0.4885714            45 1     0    \n",
       "5    1.2058824   0.4885714            45 1     0    \n",
       "6    1.2058824   0.4885714            45 1     0    \n",
       "7    1.2058824   0.4885714            45 1     0    \n",
       "8    1.2058824   0.4885714            45 1     0    \n",
       "9    1.2058824   0.4885714            45 1     0    \n",
       "10   1.2058824   0.4885714            45 1     0    \n",
       "11   1.2058824   0.4885714            45 1     0    \n",
       "12   0.8837209   0.5700000    Normal 205 0     0    \n",
       "13   0.8837209   0.5700000    Normal 205 0     0    \n",
       "14   0.8837209   0.5700000    Normal 205 0     0    \n",
       "15   0.8837209   0.5700000    Normal 205 0     0    \n",
       "16   0.9428571   0.8957143    Normal 205 0     0    \n",
       "17   0.9428571   0.8957143    Normal 205 0     0    \n",
       "18   0.9428571   0.8957143    Normal 205 0     0    \n",
       "19   0.9428571   0.8957143    Normal 205 0     0    \n",
       "20   0.9428571   0.8957143    Normal 205 0     0    \n",
       "21   0.9428571   0.8957143    Normal 205 0     0    \n",
       "22   0.9428571   0.8957143    Normal 205 0     0    \n",
       "23   0.9428571   0.8957143    Normal 205 0     0    \n",
       "24   0.9428571   0.8957143    Normal 205 0     0    \n",
       "25   0.9428571   0.8957143    Normal 205 0     0    \n",
       "26   0.9428571   0.8957143    Normal 205 0     0    \n",
       "27   1.0000000   0.7328571            45 1     0    \n",
       "28   1.0000000   0.7328571            45 1     0    \n",
       "29   1.0000000   0.7328571            45 1     0    \n",
       "30   1.0000000   0.7328571            45 1     0    \n",
       "⋮    ⋮           ⋮            ⋮      ⋮   ⋮     ⋮    \n",
       "1985 0.8000000   0.6514286    Normal 205 0     0    \n",
       "1986 0.8000000   0.6514286    Normal 205 0     0    \n",
       "1987 0.8000000   0.6514286    Normal 205 0     0    \n",
       "1988 0.8000000   0.6514286    Normal 205 0     0    \n",
       "1989 0.8000000   0.6514286    Normal 205 0     0    \n",
       "1990 0.8000000   0.6514286    Normal 205 0     0    \n",
       "1991 0.3714286   0.7328571    Normal 205 0     0    \n",
       "1992 0.3714286   0.7328571    Normal 205 0     0    \n",
       "1993 0.3714286   0.7328571    Normal 205 0     0    \n",
       "1994 0.3714286   0.7328571    Normal 205 0     0    \n",
       "1995 0.3714286   0.7328571    Normal 205 0     0    \n",
       "1996 0.3714286   0.7328571    Normal 205 0     0    \n",
       "1997 0.3714286   0.7328571    Normal 205 0     0    \n",
       "1998 0.3714286   0.7328571    Normal 205 0     0    \n",
       "1999 0.3714286   0.7328571    Normal 205 0     0    \n",
       "2000 0.3714286   0.7328571    Normal 205 0     0    \n",
       "2001 0.3714286   0.7328571    Normal 205 0     0    \n",
       "2002 0.9375000   0.4071429    Normal 205 0     0    \n",
       "2003 0.9375000   0.4071429    Normal 205 0     0    \n",
       "2004 0.9375000   0.4071429    Normal 205 0     0    \n",
       "2005 0.9375000   0.4071429    Normal 205 0     0    \n",
       "2006 0.9375000   0.4071429    Normal 205 0     0    \n",
       "2007 0.9375000   0.4071429    Normal 205 0     0    \n",
       "2008 0.9375000   0.4071429    Normal 205 0     0    \n",
       "2009 0.5000000   0.4885714    Normal 205 0     0    \n",
       "2010 0.5000000   0.4885714    Normal 205 0     0    \n",
       "2011 0.5000000   0.4885714    Normal 205 0     0    \n",
       "2012 0.5000000   0.4885714    Normal 205 0     0    \n",
       "2013 0.5000000   0.4885714    Normal 205 0     0    \n",
       "2014 0.5000000   0.4885714    Normal 205 0     0    "
      ]
     },
     "metadata": {},
     "output_type": "display_data"
    }
   ],
   "source": [
    "edish_data"
   ]
  },
  {
   "cell_type": "code",
   "execution_count": 113,
   "id": "ee23ce3a-ab8d-4901-9a51-64cdf282d833",
   "metadata": {},
   "outputs": [
    {
     "ename": "ERROR",
     "evalue": "Error in Cairo::Cairo(width, height, tf, \"png\", pointsize, bg, \"transparent\", : Graphics API version mismatch\n",
     "output_type": "error",
     "traceback": [
      "Error in Cairo::Cairo(width, height, tf, \"png\", pointsize, bg, \"transparent\", : Graphics API version mismatch\nTraceback:\n"
     ]
    },
    {
     "data": {
      "text/plain": [
       "plot without title"
      ]
     },
     "metadata": {
      "image/png": {
       "height": 420,
       "width": 420
      }
     },
     "output_type": "display_data"
    }
   ],
   "source": [
    "ggplot(data=iris, aes(x=Sepal.Length, y=Sepal.Width, color=Species)) + geom_point(size=3)"
   ]
  },
  {
   "cell_type": "code",
   "execution_count": null,
   "id": "2226979a-ca4e-4f57-a311-27e4f75aa11d",
   "metadata": {},
   "outputs": [],
   "source": []
  },
  {
   "cell_type": "code",
   "execution_count": null,
   "id": "3820dec9-8f8f-40ba-8f72-891d24ee2947",
   "metadata": {},
   "outputs": [],
   "source": []
  }
 ],
 "metadata": {
  "kernelspec": {
   "display_name": "R",
   "language": "R",
   "name": "ir12"
  },
  "language_info": {
   "codemirror_mode": "r",
   "file_extension": ".r",
   "mimetype": "text/x-r-source",
   "name": "R",
   "pygments_lexer": "r",
   "version": "4.2.0"
  }
 },
 "nbformat": 4,
 "nbformat_minor": 5
}
