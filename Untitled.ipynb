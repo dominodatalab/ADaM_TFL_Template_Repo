{
 "cells": [
  {
   "cell_type": "code",
   "execution_count": null,
   "id": "51a37f05-4abf-4bd7-9664-fdf6e9b5001a",
   "metadata": {},
   "outputs": [],
   "source": []
  },
  {
   "cell_type": "code",
   "execution_count": 5,
   "id": "994f036c-82bc-4dd4-8b70-8d6ae971c8b7",
   "metadata": {},
   "outputs": [
    {
     "name": "stdout",
     "output_type": "stream",
     "text": [
      "[1] \"Hello World!\"\n"
     ]
    }
   ],
   "source": [
    "\n",
    "print('Hello World!')"
   ]
  },
  {
   "cell_type": "code",
   "execution_count": null,
   "id": "f51044e9-977a-464c-915c-ec1a2d2895e0",
   "metadata": {},
   "outputs": [],
   "source": []
  },
  {
   "cell_type": "code",
   "execution_count": 4,
   "id": "95dc92c6-d7c8-4388-84b9-892ddc715c6e",
   "metadata": {},
   "outputs": [
    {
     "ename": "ERROR",
     "evalue": "Error in Cairo::Cairo(width, height, tf, \"png\", pointsize, bg, \"transparent\", : Graphics API version mismatch\n",
     "output_type": "error",
     "traceback": [
      "Error in Cairo::Cairo(width, height, tf, \"png\", pointsize, bg, \"transparent\", : Graphics API version mismatch\nTraceback:\n"
     ]
    },
    {
     "data": {
      "text/plain": [
       "plot without title"
      ]
     },
     "metadata": {
      "image/png": {
       "height": 420,
       "width": 420
      }
     },
     "output_type": "display_data"
    }
   ],
   "source": [
    "\n"
   ]
  }
 ],
 "metadata": {
  "kernelspec": {
   "display_name": "R",
   "language": "R",
   "name": "ir12"
  },
  "language_info": {
   "codemirror_mode": "r",
   "file_extension": ".r",
   "mimetype": "text/x-r-source",
   "name": "R",
   "pygments_lexer": "r",
   "version": "4.2.0"
  }
 },
 "nbformat": 4,
 "nbformat_minor": 5
}
