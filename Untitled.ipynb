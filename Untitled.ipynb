{
 "cells": [
  {
   "cell_type": "markdown",
   "id": "caf298cb-8723-4756-94da-19b8cc53d556",
   "metadata": {},
   "source": [
    "# eDISH Plot"
   ]
  },
  {
   "cell_type": "markdown",
   "id": "868b54fe-589a-4dae-8607-adeae71fd6a4",
   "metadata": {
    "tags": []
   },
   "source": [
    "## load packages"
   ]
  },
  {
   "cell_type": "code",
   "execution_count": 54,
   "id": "994f036c-82bc-4dd4-8b70-8d6ae971c8b7",
   "metadata": {},
   "outputs": [],
   "source": [
    "library(tidyverse)\n",
    "library(haven)"
   ]
  },
  {
   "cell_type": "markdown",
   "id": "0a0549a0-bdae-4fdd-b067-3b44c299e7a7",
   "metadata": {
    "tags": []
   },
   "source": [
    "## set working directory"
   ]
  },
  {
   "cell_type": "code",
   "execution_count": 55,
   "id": "110b7f05-84c5-4e60-a313-ff723d1fbb55",
   "metadata": {},
   "outputs": [],
   "source": [
    "setwd(\"/mnt/imported/data/ADAM\")\n"
   ]
  },
  {
   "cell_type": "markdown",
   "id": "390446f9-9118-47a2-8c30-8458aae788e6",
   "metadata": {},
   "source": [
    "## load data"
   ]
  },
  {
   "cell_type": "code",
   "execution_count": 56,
   "id": "d70e4a96-5e35-4059-afdc-ae15ee682203",
   "metadata": {},
   "outputs": [],
   "source": [
    "adlbhy <- read_sas(\"adlbhy.sas7bdat\")"
   ]
  },
  {
   "cell_type": "markdown",
   "id": "f32e802e-2995-4677-b2cb-a3e8a5c92056",
   "metadata": {},
   "source": [
    "## eDISH Plot"
   ]
  },
  {
   "cell_type": "markdown",
   "id": "c1c9a24c-7c75-455e-a258-883b31387cf8",
   "metadata": {},
   "source": [
    "#### taking the max AVAL by USUBJID for max ALT"
   ]
  },
  {
   "cell_type": "markdown",
   "id": "2d957d44-8fc6-4d43-87d5-365ae2f3e839",
   "metadata": {},
   "source": [
    "### make the ALT data"
   ]
  },
  {
   "cell_type": "code",
   "execution_count": 57,
   "id": "30ddc121-1918-4155-a781-0a8b1fa1c0f4",
   "metadata": {},
   "outputs": [],
   "source": [
    "adlbhy_alt <- adlbhy %>%\n",
    "  filter(ANL01FL == \"Y\" & PARAMCD == \"ALT\")  %>%\n",
    "  group_by(USUBJID) %>%\n",
    "  mutate(max_aval = max(AVAL),\n",
    "         max_ALT_ULN = max(R2A1HI)) %>%\n",
    "  ungroup()"
   ]
  },
  {
   "cell_type": "code",
   "execution_count": 58,
   "id": "24abf795-ade1-4c75-9405-1a68cc2c5c94",
   "metadata": {},
   "outputs": [],
   "source": [
    "### make the BILI data"
   ]
  },
  {
   "cell_type": "code",
   "execution_count": 59,
   "id": "c4704db3-c8f5-4974-99de-2b5dcc949e7d",
   "metadata": {},
   "outputs": [],
   "source": [
    "adlbhy_bili_pre <- adlbhy %>%\n",
    "  filter(ANL01FL == \"Y\" & PARAMCD == \"BILI\")  %>%\n",
    "  group_by(USUBJID) %>%\n",
    "  mutate(max_aval = max(AVAL),\n",
    "         max_BILI_ULN = max(R2A1HI)) %>%\n",
    "  ungroup()"
   ]
  },
  {
   "cell_type": "markdown",
   "id": "26824123-1302-4f7a-b0b8-bad32a8b4ace",
   "metadata": {},
   "source": [
    "#### keep only needed variables"
   ]
  },
  {
   "cell_type": "code",
   "execution_count": 60,
   "id": "db7e9021-9b18-409b-98d0-074f384d1d42",
   "metadata": {},
   "outputs": [],
   "source": [
    "adlbhy_bili <- adlbhy_bili_pre[,c(\"USUBJID\", \"AVISITN\", \"max_BILI_ULN\")]"
   ]
  },
  {
   "cell_type": "markdown",
   "id": "07915f0e-6140-4bfc-8b02-a5d9c871d100",
   "metadata": {},
   "source": [
    "### merge all together"
   ]
  },
  {
   "cell_type": "code",
   "execution_count": 61,
   "id": "7845ae9e-9418-46d4-ad62-871d157aadfe",
   "metadata": {},
   "outputs": [],
   "source": [
    "edish_data_prep <- merge(adlbhy_alt, adlbhy_bili, by = c(\"USUBJID\", \"AVISITN\"), all = TRUE)"
   ]
  },
  {
   "cell_type": "markdown",
   "id": "15da14e8-68db-4fe8-9366-03a03200945f",
   "metadata": {},
   "source": [
    "## make eDISH plot"
   ]
  },
  {
   "cell_type": "markdown",
   "id": "6e77f0c4-b23e-4589-adf6-c575cfc27d68",
   "metadata": {},
   "source": [
    "#### find the unique data for each subject"
   ]
  },
  {
   "cell_type": "code",
   "execution_count": 62,
   "id": "4f65bc4e-721f-4420-a9b5-2ea3aaff48a9",
   "metadata": {},
   "outputs": [],
   "source": [
    "edish_data_unique <- unique(edish_data_prep[,c(\"USUBJID\",  \"max_ALT_ULN\",  \"max_BILI_ULN\")])"
   ]
  },
  {
   "cell_type": "markdown",
   "id": "1e512631-21ea-48d5-8a8e-cd6418187b66",
   "metadata": {},
   "source": [
    "#### find the number of patients that fall within each bound"
   ]
  },
  {
   "cell_type": "code",
   "execution_count": 63,
   "id": "0add4638-cb7a-4b00-a323-cda1d2cd651a",
   "metadata": {},
   "outputs": [
    {
     "name": "stderr",
     "output_type": "stream",
     "text": [
      "\u001b[1m\u001b[22m`summarise()` has grouped output by 'status'. You can override using the\n",
      "`.groups` argument.\n"
     ]
    }
   ],
   "source": [
    "edish_summary_prep <- edish_data_unique %>%\n",
    "  mutate(status = ifelse(max_ALT_ULN < 1 & max_BILI_ULN < 1, \"Normal\",\n",
    "                         ifelse(max_ALT_ULN < 3 & max_BILI_ULN < 2 & max_ALT_ULN >= 1 , \"\",\n",
    "                                ifelse(max_ALT_ULN < 3 & max_BILI_ULN < 2 & max_BILI_ULN >= 1, \"\",\n",
    "                                       ifelse(max_ALT_ULN >= 3 & max_BILI_ULN >= 2, \"Hy's Law\",\n",
    "                                              ifelse(max_ALT_ULN < 3 & max_BILI_ULN >= 2, \"Hyperbilirubinemia\",\n",
    "                                                     ifelse(max_ALT_ULN >= 3 & max_BILI_ULN < 2, \"Temple's Corollary\",\n",
    "                                                            NA))))))) %>%\n",
    "  group_by(status) %>%\n",
    "  summarise(USUBJID, \n",
    "            max_ALT_ULN,\n",
    "            max_BILI_ULN,\n",
    "            n = n()) %>%\n",
    "  ungroup()"
   ]
  },
  {
   "cell_type": "markdown",
   "id": "2d227023-6fbe-43c6-8921-975c6c523eca",
   "metadata": {},
   "source": [
    "#### if any counts = 0, that status will not appear.  Merge this on to make 0 appear"
   ]
  },
  {
   "cell_type": "code",
   "execution_count": 64,
   "id": "9bb4d84a-59df-4852-9384-6f7e0df5718a",
   "metadata": {},
   "outputs": [],
   "source": [
    "status_all <- data.frame(status = c(\"Normal\", \"\", \"Hy's Law\", \"Hyperbilirubinemia\", \"Temple's Corollary\"),\n",
    "                         n_0 = rep(0,5))\n",
    "\n",
    "edish_summary_pre <- merge(edish_summary_prep, status_all, by = \"status\", all = TRUE) \n",
    "\n",
    "edish_summary <- edish_summary_pre %>%\n",
    "  summarise(USUBJID,\n",
    "            status,\n",
    "            n = ifelse(is.na(n) == TRUE, 0, n),\n",
    "            x_lab = ifelse(status == \"Normal\", floor(min(max_ALT_ULN)), \n",
    "                           ifelse(status == \"\", 1,\n",
    "                                  ifelse(status == \"Hy's Law\", 3,\n",
    "                                         ifelse(status == \"Hyperbilirubinemia\",  floor(min(max_ALT_ULN)),\n",
    "                                                ifelse(status == \"Temple's Corollary\", 3, NA))))),\n",
    "            y_lab = ifelse(status == \"Normal\", floor(min(max_BILI_ULN)), \n",
    "                           ifelse(status == \"\", floor(min(max_BILI_ULN)),\n",
    "                                  ifelse(status == \"Hy's Law\", 2,\n",
    "                                         ifelse(status == \"Hyperbilirubinemia\", 2,\n",
    "                                                ifelse(status == \"Temple's Corollary\", floor(min(max_BILI_ULN)),\n",
    "                                                       NA))))))"
   ]
  },
  {
   "cell_type": "markdown",
   "id": "08121910-6a9a-42de-a4ce-79ef8f94c480",
   "metadata": {},
   "source": [
    "#### get just the unique counts for status to be used as text on plot"
   ]
  },
  {
   "cell_type": "code",
   "execution_count": 65,
   "id": "349c2b19-4629-4baf-9703-133f08ce2c37",
   "metadata": {},
   "outputs": [],
   "source": [
    "status_count <- unique(edish_summary[,c(\"status\", \"n\", \"x_lab\", \"y_lab\")])\n"
   ]
  },
  {
   "cell_type": "markdown",
   "id": "4584e8a0-c263-462d-80a4-28879d338cc5",
   "metadata": {},
   "source": [
    "#### merge onto edish_data_prep to make edish_data"
   ]
  },
  {
   "cell_type": "code",
   "execution_count": 66,
   "id": "97690688-e2a6-4e96-8a11-de10c0677d53",
   "metadata": {},
   "outputs": [],
   "source": [
    "edish_data <- merge(edish_data_prep, edish_summary, by = \"USUBJID\", all = TRUE)"
   ]
  },
  {
   "cell_type": "markdown",
   "id": "1f242ae5-0003-4cdb-ba06-f3f4fcea7231",
   "metadata": {},
   "source": [
    "## the edish plot"
   ]
  },
  {
   "cell_type": "markdown",
   "id": "f1dcd21f-666d-42b2-ba75-e899fbc8bfbc",
   "metadata": {},
   "source": [
    "#### save and output as a PDF"
   ]
  },
  {
   "cell_type": "code",
   "execution_count": 75,
   "id": "f0c1219d-006d-4718-950f-80d1a2a440ce",
   "metadata": {},
   "outputs": [],
   "source": [
    "setwd(\"/mnt/artifacts/results\")"
   ]
  },
  {
   "cell_type": "code",
   "execution_count": 76,
   "id": "6dd9d71d-997c-4c41-a0b6-9aecb262a4e1",
   "metadata": {},
   "outputs": [],
   "source": [
    "png(file = \"edish_jupyter.png\", height = (5*480), width = 2*(5*480), res=400)\n",
    "# pdf(file = \"edish_jupyter.pdf\", height = 8, width = 14)"
   ]
  },
  {
   "cell_type": "markdown",
   "id": "dc2c80e8-4eed-475a-b611-e1510889f962",
   "metadata": {},
   "source": [
    "#### plot"
   ]
  },
  {
   "cell_type": "code",
   "execution_count": 77,
   "id": "6d3ec01b-eded-4c9c-9d54-4cb1b5e1767f",
   "metadata": {},
   "outputs": [
    {
     "name": "stderr",
     "output_type": "stream",
     "text": [
      "Warning message:\n",
      "“Transformation introduced infinite values in continuous y-axis”\n",
      "Warning message:\n",
      "“Transformation introduced infinite values in continuous x-axis”\n",
      "Warning message:\n",
      "“Transformation introduced infinite values in continuous x-axis”\n",
      "Warning message:\n",
      "“Transformation introduced infinite values in continuous y-axis”\n"
     ]
    },
    {
     "ename": "ERROR",
     "evalue": "Error in Cairo::Cairo(width, height, tf, \"png\", pointsize, bg, \"transparent\", : Graphics API version mismatch\n",
     "output_type": "error",
     "traceback": [
      "Error in Cairo::Cairo(width, height, tf, \"png\", pointsize, bg, \"transparent\", : Graphics API version mismatch\nTraceback:\n"
     ]
    },
    {
     "data": {
      "text/plain": [
       "plot without title"
      ]
     },
     "metadata": {
      "image/png": {
       "height": 420,
       "width": 420
      }
     },
     "output_type": "display_data"
    }
   ],
   "source": [
    "ggplot(data = edish_data) +\n",
    "  \n",
    "  # add labels of number in each status\n",
    "  geom_text(data = status_count,\n",
    "            aes(x = x_lab + 0.2,\n",
    "                y = y_lab + 0.2),\n",
    "            label = paste(status_count$status, \"\\nn = \", status_count$n),\n",
    "            hjust = -0,\n",
    "            vjust = -0,\n",
    "            col = \"red\") +\n",
    "  \n",
    "  # scatter points\n",
    "  geom_point(aes(x = max_ALT_ULN,\n",
    "                 y = max_BILI_ULN,\n",
    "                 color = TRTA),\n",
    "             size = 2) +\n",
    "  \n",
    "  # set point colours\n",
    "  scale_color_manual(values = c(\"grey60\", \"dodgerblue\", \"limegreen\"),\n",
    "                     name = \"Treatment Arm\") +\n",
    "  \n",
    "  # line of lower limit (requires two lines)\n",
    "  geom_segment(aes(x = 1,\n",
    "                   xend = 1,\n",
    "                   y = 0,\n",
    "                   yend = 1),\n",
    "               linetype = \"dashed\",\n",
    "               col = \"grey40\") +\n",
    "  geom_segment(aes(x = 0,\n",
    "                   xend = 1,\n",
    "                   y = 1,\n",
    "                   yend = 1),\n",
    "               linetype = \"dashed\",\n",
    "               col = \"grey40\") +\n",
    "  \n",
    "  # line of upper limit \n",
    "  geom_hline(aes(yintercept = 2),\n",
    "             linetype = \"dashed\",\n",
    "             col = \"grey40\") +\n",
    "  geom_vline(aes(xintercept = 3),\n",
    "             linetype = \"dashed\",\n",
    "             col = \"grey40\") +\n",
    "  \n",
    "  # annotate outside of plot where 1 X ULN and 3 X ULN for ALT\n",
    "  annotate(\"text\",\n",
    "           x = c(1,3),\n",
    "           y = c(max(max(edish_data$max_BILI_ULN),4) + 2.5,\n",
    "                 max(max(edish_data$max_BILI_ULN), 4) + 2.5),\n",
    "           label = c(\"1 X ULN\", \"3 X ULN\")\n",
    "  ) +\n",
    "  \n",
    "  # set axis limits \n",
    "  coord_cartesian(ylim = c(min(edish_data$max_BILI_ULN) - 0.05,\n",
    "                           max(edish_data$max_BILI_ULN) + 0.2),\n",
    "                  clip = \"off\") +\n",
    "  \n",
    "  # axis labels \n",
    "  labs(x = \"Maximum ALT (/ULN)\",\n",
    "       y = \"Maximum BILI (/ULN)\",\n",
    "       title = \"Maximum Bilirubin VS Maximum Alanine Aminotransferase\") +\n",
    "  \n",
    "  # set log scales for x an y axis, \n",
    "  scale_x_continuous(trans='log2') +\n",
    "  scale_y_continuous(trans='log2') +\n",
    "  expand_limits(x=c(0, 6), y= c(0, 4)) + # the smallest axis limits given, but will be bigger if data points are\n",
    "  \n",
    "  # theme\n",
    "  theme( strip.background = element_blank(),\n",
    "         # legend.position = \"none\",\n",
    "         axis.line = element_line(colour = \"black\"),\n",
    "         axis.ticks = element_blank(),\n",
    "         strip.text = element_text(size = 8,\n",
    "                                   margin = margin(b = 5)),\n",
    "         panel.background = element_rect(fill = \"white\"),\n",
    "         panel.border = element_rect(colour = \"black\", fill=NA, size=1),\n",
    "         #panel.grid = element_line(colour = \"black\"),\n",
    "         plot.title = element_text(size = 15,\n",
    "                                   hjust = 0.5,\n",
    "                                   vjust = 10),\n",
    "         plot.margin = margin(50, 30, 30, 30),\n",
    "         plot.title.position = 'plot',\n",
    "         panel.spacing = unit(0.2, 'in'),\n",
    "         axis.title.x = element_text(size = 11,\n",
    "                                     margin = margin(t = 15),\n",
    "                                     color = \"black\"),\n",
    "         axis.title.y = element_text(size = 11,\n",
    "                                     margin = margin(r = 15),\n",
    "                                     color = \"black\"),\n",
    "         plot.subtitle = element_text(size = 11,\n",
    "                                      margin = margin(b = 15)),\n",
    "         axis.text.x = element_text(size = 12,\n",
    "                                    color = \"black\"),\n",
    "         axis.text.y = element_text(size = 11,\n",
    "                                    color = \"black\",\n",
    "                                    hjust = 0))"
   ]
  },
  {
   "cell_type": "code",
   "execution_count": 78,
   "id": "4430dd9c-6d26-41ae-9180-91ddb449b85d",
   "metadata": {},
   "outputs": [
    {
     "data": {
      "text/html": [
       "<strong>pdf:</strong> 3"
      ],
      "text/latex": [
       "\\textbf{pdf:} 3"
      ],
      "text/markdown": [
       "**pdf:** 3"
      ],
      "text/plain": [
       "pdf \n",
       "  3 "
      ]
     },
     "metadata": {},
     "output_type": "display_data"
    }
   ],
   "source": [
    "dev.off() # Closes the plot and saves it as file"
   ]
  },
  {
   "cell_type": "code",
   "execution_count": null,
   "id": "c78fe96a-6299-4b34-a44b-e6a695e1c31e",
   "metadata": {},
   "outputs": [],
   "source": []
  },
  {
   "cell_type": "code",
   "execution_count": null,
   "id": "ee23ce3a-ab8d-4901-9a51-64cdf282d833",
   "metadata": {},
   "outputs": [],
   "source": []
  },
  {
   "cell_type": "code",
   "execution_count": null,
   "id": "2226979a-ca4e-4f57-a311-27e4f75aa11d",
   "metadata": {},
   "outputs": [],
   "source": []
  },
  {
   "cell_type": "code",
   "execution_count": null,
   "id": "3820dec9-8f8f-40ba-8f72-891d24ee2947",
   "metadata": {},
   "outputs": [],
   "source": []
  }
 ],
 "metadata": {
  "kernelspec": {
   "display_name": "R",
   "language": "R",
   "name": "ir12"
  },
  "language_info": {
   "codemirror_mode": "r",
   "file_extension": ".r",
   "mimetype": "text/x-r-source",
   "name": "R",
   "pygments_lexer": "r",
   "version": "4.2.0"
  }
 },
 "nbformat": 4,
 "nbformat_minor": 5
}
