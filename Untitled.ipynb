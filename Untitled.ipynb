{
 "cells": [
  {
   "cell_type": "markdown",
   "id": "caf298cb-8723-4756-94da-19b8cc53d556",
   "metadata": {},
   "source": [
    "# eDISH Plot"
   ]
  },
  {
   "cell_type": "markdown",
   "id": "868b54fe-589a-4dae-8607-adeae71fd6a4",
   "metadata": {
    "tags": []
   },
   "source": [
    "## load packages"
   ]
  },
  {
   "cell_type": "code",
   "execution_count": 11,
   "id": "994f036c-82bc-4dd4-8b70-8d6ae971c8b7",
   "metadata": {},
   "outputs": [],
   "source": [
    "library(tidyverse)\n",
    "library(haven)"
   ]
  },
  {
   "cell_type": "markdown",
   "id": "0a0549a0-bdae-4fdd-b067-3b44c299e7a7",
   "metadata": {
    "tags": []
   },
   "source": [
    "## set working directory"
   ]
  },
  {
   "cell_type": "code",
   "execution_count": 12,
   "id": "110b7f05-84c5-4e60-a313-ff723d1fbb55",
   "metadata": {},
   "outputs": [],
   "source": [
    "setwd(\"/mnt/imported/data/ADAM\")\n"
   ]
  },
  {
   "cell_type": "markdown",
   "id": "390446f9-9118-47a2-8c30-8458aae788e6",
   "metadata": {},
   "source": [
    "## load data"
   ]
  },
  {
   "cell_type": "code",
   "execution_count": 18,
   "id": "d70e4a96-5e35-4059-afdc-ae15ee682203",
   "metadata": {},
   "outputs": [],
   "source": [
    "adlbhy <- read_sas(\"adlbhy.sas7bdat\")"
   ]
  },
  {
   "cell_type": "markdown",
   "id": "f32e802e-2995-4677-b2cb-a3e8a5c92056",
   "metadata": {},
   "source": [
    "## eDISH Plot"
   ]
  },
  {
   "cell_type": "markdown",
   "id": "c1c9a24c-7c75-455e-a258-883b31387cf8",
   "metadata": {},
   "source": [
    "#### taking the max AVAL by USUBJID for max ALT"
   ]
  },
  {
   "cell_type": "markdown",
   "id": "2d957d44-8fc6-4d43-87d5-365ae2f3e839",
   "metadata": {},
   "source": [
    "### make the ALT data"
   ]
  },
  {
   "cell_type": "code",
   "execution_count": 21,
   "id": "30ddc121-1918-4155-a781-0a8b1fa1c0f4",
   "metadata": {},
   "outputs": [],
   "source": [
    "adlbhy_alt <- adlbhy %>%\n",
    "  filter(ANL01FL == \"Y\" & PARAMCD == \"ALT\")  %>%\n",
    "  group_by(USUBJID) %>%\n",
    "  mutate(max_aval = max(AVAL),\n",
    "         max_ALT_ULN = max(R2A1HI)) %>%\n",
    "  ungroup()"
   ]
  },
  {
   "cell_type": "code",
   "execution_count": 22,
   "id": "24abf795-ade1-4c75-9405-1a68cc2c5c94",
   "metadata": {},
   "outputs": [],
   "source": [
    "### make the BILI data"
   ]
  },
  {
   "cell_type": "code",
   "execution_count": 24,
   "id": "c4704db3-c8f5-4974-99de-2b5dcc949e7d",
   "metadata": {},
   "outputs": [],
   "source": [
    "adlbhy_bili_pre <- adlbhy %>%\n",
    "  filter(ANL01FL == \"Y\" & PARAMCD == \"BILI\")  %>%\n",
    "  group_by(USUBJID) %>%\n",
    "  mutate(max_aval = max(AVAL),\n",
    "         max_BILI_ULN = max(R2A1HI)) %>%\n",
    "  ungroup()"
   ]
  },
  {
   "cell_type": "markdown",
   "id": "26824123-1302-4f7a-b0b8-bad32a8b4ace",
   "metadata": {},
   "source": [
    "#### keep only needed variables"
   ]
  },
  {
   "cell_type": "code",
   "execution_count": 25,
   "id": "db7e9021-9b18-409b-98d0-074f384d1d42",
   "metadata": {},
   "outputs": [],
   "source": [
    "adlbhy_bili <- adlbhy_bili_pre[,c(\"USUBJID\", \"AVISITN\", \"max_BILI_ULN\")]"
   ]
  },
  {
   "cell_type": "markdown",
   "id": "07915f0e-6140-4bfc-8b02-a5d9c871d100",
   "metadata": {},
   "source": [
    "### merge all together"
   ]
  },
  {
   "cell_type": "code",
   "execution_count": 27,
   "id": "7845ae9e-9418-46d4-ad62-871d157aadfe",
   "metadata": {},
   "outputs": [],
   "source": [
    "edish_data_prep <- merge(adlbhy_alt, adlbhy_bili, by = c(\"USUBJID\", \"AVISITN\"), all = TRUE)"
   ]
  },
  {
   "cell_type": "markdown",
   "id": "15da14e8-68db-4fe8-9366-03a03200945f",
   "metadata": {},
   "source": [
    "## make eDISH plot"
   ]
  },
  {
   "cell_type": "markdown",
   "id": "6e77f0c4-b23e-4589-adf6-c575cfc27d68",
   "metadata": {},
   "source": [
    "#### find the unique data for each subject"
   ]
  },
  {
   "cell_type": "code",
   "execution_count": 28,
   "id": "4f65bc4e-721f-4420-a9b5-2ea3aaff48a9",
   "metadata": {},
   "outputs": [],
   "source": [
    "edish_data_unique <- unique(edish_data_prep[,c(\"USUBJID\",  \"max_ALT_ULN\",  \"max_BILI_ULN\")])"
   ]
  },
  {
   "cell_type": "markdown",
   "id": "1e512631-21ea-48d5-8a8e-cd6418187b66",
   "metadata": {},
   "source": [
    "#### find the number of patients that fall within each bound"
   ]
  },
  {
   "cell_type": "code",
   "execution_count": 29,
   "id": "0add4638-cb7a-4b00-a323-cda1d2cd651a",
   "metadata": {},
   "outputs": [
    {
     "name": "stderr",
     "output_type": "stream",
     "text": [
      "\u001b[1m\u001b[22m`summarise()` has grouped output by 'status'. You can override using the\n",
      "`.groups` argument.\n"
     ]
    }
   ],
   "source": [
    "edish_summary_prep <- edish_data_unique %>%\n",
    "  mutate(status = ifelse(max_ALT_ULN < 1 & max_BILI_ULN < 1, \"Normal\",\n",
    "                         ifelse(max_ALT_ULN < 3 & max_BILI_ULN < 2 & max_ALT_ULN >= 1 , \"\",\n",
    "                                ifelse(max_ALT_ULN < 3 & max_BILI_ULN < 2 & max_BILI_ULN >= 1, \"\",\n",
    "                                       ifelse(max_ALT_ULN >= 3 & max_BILI_ULN >= 2, \"Hy's Law\",\n",
    "                                              ifelse(max_ALT_ULN < 3 & max_BILI_ULN >= 2, \"Hyperbilirubinemia\",\n",
    "                                                     ifelse(max_ALT_ULN >= 3 & max_BILI_ULN < 2, \"Temple's Corollary\",\n",
    "                                                            NA))))))) %>%\n",
    "  group_by(status) %>%\n",
    "  summarise(USUBJID, \n",
    "            max_ALT_ULN,\n",
    "            max_BILI_ULN,\n",
    "            n = n()) %>%\n",
    "  ungroup()"
   ]
  },
  {
   "cell_type": "markdown",
   "id": "2d227023-6fbe-43c6-8921-975c6c523eca",
   "metadata": {},
   "source": [
    "#### if any counts = 0, that status will not appear.  Merge this on to make 0 appear"
   ]
  },
  {
   "cell_type": "code",
   "execution_count": 30,
   "id": "9bb4d84a-59df-4852-9384-6f7e0df5718a",
   "metadata": {},
   "outputs": [],
   "source": [
    "status_all <- data.frame(status = c(\"Normal\", \"\", \"Hy's Law\", \"Hyperbilirubinemia\", \"Temple's Corollary\"),\n",
    "                         n_0 = rep(0,5))\n",
    "\n",
    "edish_summary_pre <- merge(edish_summary_prep, status_all, by = \"status\", all = TRUE) \n",
    "\n",
    "edish_summary <- edish_summary_pre %>%\n",
    "  summarise(USUBJID,\n",
    "            status,\n",
    "            n = ifelse(is.na(n) == TRUE, 0, n),\n",
    "            x_lab = ifelse(status == \"Normal\", floor(min(max_ALT_ULN)), \n",
    "                           ifelse(status == \"\", 1,\n",
    "                                  ifelse(status == \"Hy's Law\", 3,\n",
    "                                         ifelse(status == \"Hyperbilirubinemia\",  floor(min(max_ALT_ULN)),\n",
    "                                                ifelse(status == \"Temple's Corollary\", 3, NA))))),\n",
    "            y_lab = ifelse(status == \"Normal\", floor(min(max_BILI_ULN)), \n",
    "                           ifelse(status == \"\", floor(min(max_BILI_ULN)),\n",
    "                                  ifelse(status == \"Hy's Law\", 2,\n",
    "                                         ifelse(status == \"Hyperbilirubinemia\", 2,\n",
    "                                                ifelse(status == \"Temple's Corollary\", floor(min(max_BILI_ULN)),\n",
    "                                                       NA))))))"
   ]
  },
  {
   "cell_type": "markdown",
   "id": "08121910-6a9a-42de-a4ce-79ef8f94c480",
   "metadata": {},
   "source": [
    "#### get just the unique counts for status to be used as text on plot"
   ]
  },
  {
   "cell_type": "code",
   "execution_count": null,
   "id": "349c2b19-4629-4baf-9703-133f08ce2c37",
   "metadata": {},
   "outputs": [],
   "source": [
    "status_count <- unique(edish_summary[,c(\"status\", \"n\", \"x_lab\", \"y_lab\")])\n"
   ]
  },
  {
   "cell_type": "markdown",
   "id": "4584e8a0-c263-462d-80a4-28879d338cc5",
   "metadata": {},
   "source": [
    "#### merge onto edish_data_prep to make edish_data"
   ]
  },
  {
   "cell_type": "code",
   "execution_count": null,
   "id": "97690688-e2a6-4e96-8a11-de10c0677d53",
   "metadata": {},
   "outputs": [],
   "source": [
    "edish_data <- merge(edish_data_prep, edish_summary, by = \"USUBJID\", all = TRUE)"
   ]
  },
  {
   "cell_type": "markdown",
   "id": "1f242ae5-0003-4cdb-ba06-f3f4fcea7231",
   "metadata": {},
   "source": [
    "## the edish plot"
   ]
  },
  {
   "cell_type": "markdown",
   "id": "f1dcd21f-666d-42b2-ba75-e899fbc8bfbc",
   "metadata": {},
   "source": [
    "#### save and output as a PDF"
   ]
  },
  {
   "cell_type": "code",
   "execution_count": null,
   "id": "f0c1219d-006d-4718-950f-80d1a2a440ce",
   "metadata": {},
   "outputs": [],
   "source": [
    "setwd(\"/mnt/artifacts/results\")"
   ]
  },
  {
   "cell_type": "code",
   "execution_count": null,
   "id": "6dd9d71d-997c-4c41-a0b6-9aecb262a4e1",
   "metadata": {},
   "outputs": [],
   "source": [
    "pdf(file = \"edish_jupyter.pdf\", height = 8, width = 14)"
   ]
  }
 ],
 "metadata": {
  "kernelspec": {
   "display_name": "R",
   "language": "R",
   "name": "ir12"
  },
  "language_info": {
   "codemirror_mode": "r",
   "file_extension": ".r",
   "mimetype": "text/x-r-source",
   "name": "R",
   "pygments_lexer": "r",
   "version": "4.2.0"
  }
 },
 "nbformat": 4,
 "nbformat_minor": 5
}
